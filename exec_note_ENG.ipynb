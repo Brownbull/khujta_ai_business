{
 "cells": [
  {
   "cell_type": "markdown",
   "id": "d93e7e08",
   "metadata": {},
   "source": [
    "# 📊 Executive Business Intelligence Dashboard\n",
    "**Automated insights for data-driven decisions**"
   ]
  },
  {
   "cell_type": "code",
   "execution_count": null,
   "id": "2e57a2e5",
   "metadata": {},
   "outputs": [],
   "source": [
    "input_file = 'data/comercializadora/comercializadora_transactions.csv'  # Input CSV file\n",
    "\n",
    "config = {\n",
    "    'project_name': 'comercializadora',       # Project name\n",
    "    'out_dir' : 'outputs',               # Output directory\n",
    "    \n",
    "    # Data mapping\n",
    "    'date_col': 'fecha',                # Required\n",
    "    'product_col': 'producto',          # Required\n",
    "    'description_col': 'glosa',         # Optional, set to None if not available\n",
    "    'revenue_col': 'total',             # Required\n",
    "    'quantity_col': 'cantidad',         # Required\n",
    "    'transaction_col': 'trans_id',      # Required\n",
    "    'cost_col': 'costo',                # Optional, set to None if not available \n",
    "    'customer_col': 'customer_id',      # Optional, set to None if not available\n",
    "    \n",
    "    # Analysis settings\n",
    "    'analysis_date': '2025-03-01',      # Or 'current' for today\n",
    "    'top_products_threshold': 0.2,      # Top products threshold (e.g., 0.2 for top 20%)\n",
    "    'dead_stock_days': 30,              # Days of inactivity to consider stock as dead\n",
    "    'currency_format': 'CLP',           # 'USD', 'EUR', 'CLP', etc.\n",
    "    'language': 'ENG',                  # 'ENG' or 'ESP'\n",
    "    \n",
    "    # Logging and performance\n",
    "    'log_level': 'INFO',                # 'DEBUG', 'INFO', 'WARNING','ERROR', 'CRITICAL'\n",
    "}\n",
    "\n",
    "save = 0  # True or 1 to save outputs, False or 0 to just print"
   ]
  },
  {
   "cell_type": "markdown",
   "id": "694f008e",
   "metadata": {},
   "source": [
    "## 📋 Setup & Data Overview\n",
    "*Loading your business data and configuring analysis parameters*"
   ]
  },
  {
   "cell_type": "code",
   "execution_count": null,
   "id": "1022a7fe",
   "metadata": {},
   "outputs": [],
   "source": [
    "from modules.business_analytics import BusinessAnalyzer\n",
    "from modules.dashboard import ExecutiveDashboard\n",
    "from modules.advanced_analytics import AdvancedAnalytics\n",
    "from modules.reports import *\n",
    "from modules.utils import *\n",
    "\n",
    "# Initialize logging from config\n",
    "from modules.logger import setup_logging\n",
    "setup_logging(log_level=config.get('log_level', 'INFO'), config=config)\n",
    "\n",
    "# Helper function for translated filenames (bound to config language)\n",
    "from modules.translations import create_filename_helper\n",
    "fn = create_filename_helper(config)\n",
    "\n",
    "# Initialize modules\n",
    "analyzer = BusinessAnalyzer(data_source=input_file, config=config)\n",
    "dashboard = ExecutiveDashboard(analyzer)\n",
    "advanced = AdvancedAnalytics(analyzer)"
   ]
  },
  {
   "cell_type": "markdown",
   "id": "06938a63",
   "metadata": {},
   "source": [
    "## 🎯 Executive Summary\n",
    "*Your business at a glance: key metrics, critical actions, and top insights*"
   ]
  },
  {
   "cell_type": "code",
   "execution_count": null,
   "id": "5d8c6a72",
   "metadata": {},
   "outputs": [],
   "source": [
    "summary = dashboard.create_quick_summary()\n",
    "print_info(summary, analyzer.out_dir, fn('DASH', 'quick_summary'), save=save)"
   ]
  },
  {
   "cell_type": "markdown",
   "id": "112b8b80",
   "metadata": {},
   "source": [
    "## 📈 Visual Performance Dashboard\n",
    "*Complete visual overview of revenue, trends, and operational health*"
   ]
  },
  {
   "cell_type": "code",
   "execution_count": null,
   "id": "4caf99ba",
   "metadata": {},
   "outputs": [],
   "source": [
    "# Create and display the executive dashboard\n",
    "fig = dashboard.create_full_dashboard(figsize=(20, 12))\n",
    "print_fig(fig, dashboard.analyzer.out_dir, fn('DASH', 'executive', 'png'), save=save)"
   ]
  },
  {
   "cell_type": "markdown",
   "id": "308a14bb",
   "metadata": {},
   "source": [
    "## 💰 Revenue Concentration Analysis\n",
    "*Identify your star products and portfolio risk exposure*"
   ]
  },
  {
   "cell_type": "code",
   "execution_count": null,
   "id": "6b6ac9d0",
   "metadata": {},
   "outputs": [],
   "source": [
    "pareto = analyzer.get_pareto_insights()\n",
    "print_info(analyzer.print_pareto(), analyzer.out_dir, fn('BA', 'pareto'), save=save)"
   ]
  },
  {
   "cell_type": "markdown",
   "id": "5ae48232",
   "metadata": {},
   "source": [
    "## 📦 Inventory Health Check\n",
    "*Detect dead stock and optimize inventory investment*"
   ]
  },
  {
   "cell_type": "code",
   "execution_count": null,
   "id": "64fd256a",
   "metadata": {},
   "outputs": [],
   "source": [
    "inventory = analyzer.get_inventory_health()\n",
    "print_info(analyzer.print_inventory_health(), analyzer.out_dir, fn('BA', 'inventory'), save=save)"
   ]
  },
  {
   "cell_type": "markdown",
   "id": "a27e4f32",
   "metadata": {},
   "source": [
    "## ⏰ Operational Efficiency\n",
    "*Optimize staffing and resources based on peak demand patterns*"
   ]
  },
  {
   "cell_type": "code",
   "execution_count": null,
   "id": "24626cfa",
   "metadata": {},
   "outputs": [],
   "source": [
    "peak_times = analyzer.get_peak_times()\n",
    "print_info(analyzer.print_peak_times(), analyzer.out_dir, fn('BA', 'peak_times'), save=save)"
   ]
  },
  {
   "cell_type": "markdown",
   "id": "db0cdaf2",
   "metadata": {},
   "source": [
    "## 🚨 Alerts & Action Items\n",
    "*Critical issues requiring immediate attention and strategic opportunities*"
   ]
  },
  {
   "cell_type": "code",
   "execution_count": null,
   "id": "6584c206",
   "metadata": {},
   "outputs": [],
   "source": [
    "alerts = analyzer.get_alerts()\n",
    "print_info(analyzer.print_alerts(), analyzer.out_dir, fn('BA', 'alerts'), save=save)"
   ]
  },
  {
   "cell_type": "markdown",
   "id": "85693c26",
   "metadata": {},
   "source": [
    "## 💾 Export Summary Data\n",
    "*Save key metrics for tracking trends over time*"
   ]
  },
  {
   "cell_type": "code",
   "execution_count": null,
   "id": "c8cf2eeb",
   "metadata": {},
   "outputs": [],
   "source": [
    "# Save executive summary as CSV for easy tracking over time\n",
    "import pandas as pd\n",
    "\n",
    "summary_dict = analyzer.get_executive_summary_dict()\n",
    "summary_df = pd.DataFrame([summary_dict])\n",
    "\n",
    "if save:\n",
    "    save_path = os.path.join(analyzer.out_dir, fn('BA', 'executive_summary', 'csv'))\n",
    "    os.makedirs(os.path.dirname(save_path), exist_ok=True)\n",
    "    summary_df.to_csv(save_path, index=False)\n",
    "    print(f\"✅ Executive summary exported to {save_path}\")\n",
    "else:\n",
    "    print(summary_df.to_string(index=False))"
   ]
  }
 ],
 "metadata": {
  "kernelspec": {
   "display_name": "venv (3.12.7)",
   "language": "python",
   "name": "python3"
  },
  "language_info": {
   "codemirror_mode": {
    "name": "ipython",
    "version": 3
   },
   "file_extension": ".py",
   "mimetype": "text/x-python",
   "name": "python",
   "nbconvert_exporter": "python",
   "pygments_lexer": "ipython3",
   "version": "3.12.7"
  }
 },
 "nbformat": 4,
 "nbformat_minor": 5
}
