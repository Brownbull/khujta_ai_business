{
 "cells": [
  {
   "cell_type": "markdown",
   "metadata": {},
   "source": [
    "# Feature Engine Demo\n",
    "\n",
    "This notebook demonstrates the new **dynamic feature store** approach using the Feature Engine.\n",
    "\n",
    "## Key Features:\n",
    "- ✅ Self-documenting features with metadata\n",
    "- ✅ Automatic dependency resolution\n",
    "- ✅ Runtime introspection\n",
    "- ✅ Input validation\n",
    "- ✅ Easy to extend"
   ]
  },
  {
   "cell_type": "code",
   "execution_count": 1,
   "metadata": {},
   "outputs": [
    {
     "name": "stdout",
     "output_type": "stream",
     "text": [
      "Feature Engine loaded successfully!\n"
     ]
    }
   ],
   "source": [
    "import pandas as pd\n",
    "import numpy as np\n",
    "from datetime import datetime\n",
    "import warnings\n",
    "warnings.filterwarnings('ignore')\n",
    "\n",
    "# Import feature engine\n",
    "from feature_engine import feature, registry, executor\n",
    "from feature_engine.introspection import print_statistics, get_feature_catalog\n",
    "\n",
    "print(\"Feature Engine loaded successfully!\")"
   ]
  },
  {
   "cell_type": "markdown",
   "metadata": {},
   "source": [
    "## 1. Load Sample Data"
   ]
  },
  {
   "cell_type": "code",
   "execution_count": 2,
   "metadata": {},
   "outputs": [
    {
     "name": "stdout",
     "output_type": "stream",
     "text": [
      "Loaded 5527 transactions\n",
      "Date range: 2024-05-01 00:00:00 to 2024-06-30 00:00:00\n",
      "\n",
      "Columns: ['trans_id', 'fecha', 'producto', 'glosa', 'costo', 'total', 'cantidad', 'inith', 'initm', 'customer']\n"
     ]
    },
    {
     "data": {
      "text/html": [
       "<div>\n",
       "<style scoped>\n",
       "    .dataframe tbody tr th:only-of-type {\n",
       "        vertical-align: middle;\n",
       "    }\n",
       "\n",
       "    .dataframe tbody tr th {\n",
       "        vertical-align: top;\n",
       "    }\n",
       "\n",
       "    .dataframe thead th {\n",
       "        text-align: right;\n",
       "    }\n",
       "</style>\n",
       "<table border=\"1\" class=\"dataframe\">\n",
       "  <thead>\n",
       "    <tr style=\"text-align: right;\">\n",
       "      <th></th>\n",
       "      <th>trans_id</th>\n",
       "      <th>fecha</th>\n",
       "      <th>producto</th>\n",
       "      <th>glosa</th>\n",
       "      <th>costo</th>\n",
       "      <th>total</th>\n",
       "      <th>cantidad</th>\n",
       "      <th>inith</th>\n",
       "      <th>initm</th>\n",
       "      <th>customer</th>\n",
       "    </tr>\n",
       "  </thead>\n",
       "  <tbody>\n",
       "    <tr>\n",
       "      <th>0</th>\n",
       "      <td>AP000001_1</td>\n",
       "      <td>2024-05-01</td>\n",
       "      <td>ACC001</td>\n",
       "      <td>LLAVE TUERCAS CRUZ 4 PUNTAS</td>\n",
       "      <td>8500</td>\n",
       "      <td>15000</td>\n",
       "      <td>1</td>\n",
       "      <td>10</td>\n",
       "      <td>1</td>\n",
       "      <td>MECANICA_RAPIDA_LAS_CONDES</td>\n",
       "    </tr>\n",
       "    <tr>\n",
       "      <th>1</th>\n",
       "      <td>AP000002_1</td>\n",
       "      <td>2024-05-01</td>\n",
       "      <td>TIRE001</td>\n",
       "      <td>NEUMATICO 195/65 R15 VERANO</td>\n",
       "      <td>45000</td>\n",
       "      <td>75000</td>\n",
       "      <td>1</td>\n",
       "      <td>14</td>\n",
       "      <td>6</td>\n",
       "      <td>LUBRICENTRO_PROVIDENCIA</td>\n",
       "    </tr>\n",
       "    <tr>\n",
       "      <th>2</th>\n",
       "      <td>AP000002_2</td>\n",
       "      <td>2024-05-01</td>\n",
       "      <td>OIL002</td>\n",
       "      <td>ACEITE MOTOR 15W40 MINERAL 4L</td>\n",
       "      <td>8000</td>\n",
       "      <td>12000</td>\n",
       "      <td>1</td>\n",
       "      <td>14</td>\n",
       "      <td>6</td>\n",
       "      <td>LUBRICENTRO_PROVIDENCIA</td>\n",
       "    </tr>\n",
       "    <tr>\n",
       "      <th>3</th>\n",
       "      <td>AP000002_3</td>\n",
       "      <td>2024-05-01</td>\n",
       "      <td>OIL002</td>\n",
       "      <td>ACEITE MOTOR 15W40 MINERAL 4L</td>\n",
       "      <td>8000</td>\n",
       "      <td>12000</td>\n",
       "      <td>1</td>\n",
       "      <td>14</td>\n",
       "      <td>6</td>\n",
       "      <td>LUBRICENTRO_PROVIDENCIA</td>\n",
       "    </tr>\n",
       "    <tr>\n",
       "      <th>4</th>\n",
       "      <td>AP000003_1</td>\n",
       "      <td>2024-05-01</td>\n",
       "      <td>ENG004</td>\n",
       "      <td>TERMOSTATO MOTOR</td>\n",
       "      <td>15000</td>\n",
       "      <td>28000</td>\n",
       "      <td>1</td>\n",
       "      <td>8</td>\n",
       "      <td>38</td>\n",
       "      <td>TALLER_MECANICO_SAN_MIGUEL</td>\n",
       "    </tr>\n",
       "  </tbody>\n",
       "</table>\n",
       "</div>"
      ],
      "text/plain": [
       "     trans_id      fecha producto                          glosa  costo  \\\n",
       "0  AP000001_1 2024-05-01   ACC001    LLAVE TUERCAS CRUZ 4 PUNTAS   8500   \n",
       "1  AP000002_1 2024-05-01  TIRE001    NEUMATICO 195/65 R15 VERANO  45000   \n",
       "2  AP000002_2 2024-05-01   OIL002  ACEITE MOTOR 15W40 MINERAL 4L   8000   \n",
       "3  AP000002_3 2024-05-01   OIL002  ACEITE MOTOR 15W40 MINERAL 4L   8000   \n",
       "4  AP000003_1 2024-05-01   ENG004               TERMOSTATO MOTOR  15000   \n",
       "\n",
       "   total  cantidad  inith  initm                    customer  \n",
       "0  15000         1     10      1  MECANICA_RAPIDA_LAS_CONDES  \n",
       "1  75000         1     14      6     LUBRICENTRO_PROVIDENCIA  \n",
       "2  12000         1     14      6     LUBRICENTRO_PROVIDENCIA  \n",
       "3  12000         1     14      6     LUBRICENTRO_PROVIDENCIA  \n",
       "4  28000         1      8     38  TALLER_MECANICO_SAN_MIGUEL  "
      ]
     },
     "execution_count": 2,
     "metadata": {},
     "output_type": "execute_result"
    }
   ],
   "source": [
    "# Load auto parts data\n",
    "df = pd.read_csv('data/auto_partes/auto_partes_transactions.csv')\n",
    "\n",
    "# Parse dates - extract date part only (time has format issues)\n",
    "# The data has incorrect format like \"14:06:00 PM\" (14 is already 24-hour)\n",
    "# We use inith column for hour information\n",
    "df['fecha'] = df['fecha'].str.split(' ').str[0]\n",
    "df['fecha'] = pd.to_datetime(df['fecha'], format='%m/%d/%Y')\n",
    "\n",
    "print(f\"Loaded {len(df)} transactions\")\n",
    "print(f\"Date range: {df['fecha'].min()} to {df['fecha'].max()}\")\n",
    "print(f\"\\nColumns: {list(df.columns)}\")\n",
    "df.head()"
   ]
  },
  {
   "cell_type": "markdown",
   "metadata": {},
   "source": [
    "## 2. Define Configuration"
   ]
  },
  {
   "cell_type": "code",
   "execution_count": 3,
   "metadata": {},
   "outputs": [
    {
     "name": "stdout",
     "output_type": "stream",
     "text": [
      "Configuration:\n",
      "  project_name: auto_partes_demo\n",
      "  analysis_date: 2025-10-07\n",
      "  date_col: fecha\n",
      "  product_col: producto\n",
      "  description_col: glosa\n",
      "  revenue_col: total\n",
      "  quantity_col: cantidad\n",
      "  transaction_col: trans_id\n",
      "  cost_col: costo\n"
     ]
    }
   ],
   "source": [
    "config = {\n",
    "    'project_name': 'auto_partes_demo',\n",
    "    'analysis_date': datetime.now(),\n",
    "    'date_col': 'fecha',\n",
    "    'product_col': 'producto',\n",
    "    'description_col': 'glosa',\n",
    "    'revenue_col': 'total',\n",
    "    'quantity_col': 'cantidad',\n",
    "    'transaction_col': 'trans_id',\n",
    "    'cost_col': 'costo'\n",
    "}\n",
    "\n",
    "print(\"Configuration:\")\n",
    "for key, value in config.items():\n",
    "    if key != 'analysis_date':\n",
    "        print(f\"  {key}: {value}\")\n",
    "    else:\n",
    "        print(f\"  {key}: {value.strftime('%Y-%m-%d')}\")"
   ]
  },
  {
   "cell_type": "markdown",
   "metadata": {},
   "source": [
    "## 3. Define Features with @feature Decorator\n",
    "\n",
    "Let's migrate some key features from the waterfall pipeline."
   ]
  },
  {
   "cell_type": "code",
   "execution_count": 4,
   "metadata": {},
   "outputs": [
    {
     "name": "stdout",
     "output_type": "stream",
     "text": [
      "[OK] Registered feature: time_extraction (filter)\n"
     ]
    }
   ],
   "source": [
    "# Feature 1: Time Extraction\n",
    "@feature(\n",
    "    name='time_extraction',\n",
    "    description='Extract time-based features (hour, weekday, month, etc.) from date column',\n",
    "    category='filter',\n",
    "    dtype='integer',\n",
    "    requires=['date_col'],\n",
    "    tags=['time', 'preprocessing']\n",
    ")\n",
    "def extract_time_features(df, config):\n",
    "    \"\"\"Extract time-based features from date column\"\"\"\n",
    "    date_col = config['date_col']\n",
    "\n",
    "    # Hour\n",
    "    if 'hour' not in df.columns:\n",
    "        if 'inith' in df.columns:\n",
    "            df['hour'] = df['inith']\n",
    "        else:\n",
    "            df['hour'] = df[date_col].dt.hour\n",
    "\n",
    "    # Weekday name\n",
    "    if 'weekday' not in df.columns:\n",
    "        df['weekday'] = df[date_col].dt.day_name()\n",
    "\n",
    "    # Weekday number (0=Monday, 6=Sunday)\n",
    "    if 'weekday_num' not in df.columns:\n",
    "        df['weekday_num'] = df[date_col].dt.dayofweek\n",
    "\n",
    "    # Month\n",
    "    if 'month' not in df.columns:\n",
    "        df['month'] = df[date_col].dt.month\n",
    "\n",
    "    # Month name\n",
    "    if 'month_name' not in df.columns:\n",
    "        df['month_name'] = df[date_col].dt.month_name()\n",
    "\n",
    "    # Year\n",
    "    if 'year' not in df.columns:\n",
    "        df['year'] = df[date_col].dt.year\n",
    "\n",
    "    # Week of year\n",
    "    if 'week_of_year' not in df.columns:\n",
    "        df['week_of_year'] = df[date_col].dt.isocalendar().week\n",
    "\n",
    "    # Day of month\n",
    "    if 'day_of_month' not in df.columns:\n",
    "        df['day_of_month'] = df[date_col].dt.day\n",
    "\n",
    "    return df"
   ]
  },
  {
   "cell_type": "code",
   "execution_count": 5,
   "metadata": {},
   "outputs": [
    {
     "name": "stdout",
     "output_type": "stream",
     "text": [
      "[OK] Registered feature: profit_margin (filter)\n"
     ]
    }
   ],
   "source": [
    "# Feature 2: Profit Margin\n",
    "@feature(\n",
    "    name='profit_margin',\n",
    "    description='Calculate profit margin percentage: (revenue - cost) / revenue * 100',\n",
    "    category='filter',\n",
    "    dtype='float',\n",
    "    requires=['revenue_col', 'cost_col'],\n",
    "    optional_requires=['cost_col'],\n",
    "    tags=['financial', 'profitability']\n",
    ")\n",
    "def calculate_profit_margin(df, config):\n",
    "    \"\"\"Calculate profit margin percentage\"\"\"\n",
    "    revenue_col = config['revenue_col']\n",
    "    cost_col = config.get('cost_col')\n",
    "\n",
    "    if cost_col and cost_col in df.columns:\n",
    "        df['profit_margin'] = np.where(\n",
    "            df[revenue_col] > 0,\n",
    "            ((df[revenue_col] - df[cost_col]) / df[revenue_col]) * 100,\n",
    "            0\n",
    "        )\n",
    "        df['profit'] = df[revenue_col] - df[cost_col]\n",
    "    else:\n",
    "        print(\"[INFO] cost_col not available, skipping profit_margin\")\n",
    "\n",
    "    return df"
   ]
  },
  {
   "cell_type": "code",
   "execution_count": 6,
   "metadata": {},
   "outputs": [
    {
     "name": "stdout",
     "output_type": "stream",
     "text": [
      "[OK] Registered feature: price_per_unit (filter)\n"
     ]
    }
   ],
   "source": [
    "# Feature 3: Price Per Unit\n",
    "@feature(\n",
    "    name='price_per_unit',\n",
    "    description='Calculate price per unit: revenue / quantity',\n",
    "    category='filter',\n",
    "    dtype='float',\n",
    "    requires=['revenue_col', 'quantity_col'],\n",
    "    tags=['pricing', 'unit_economics']\n",
    ")\n",
    "def calculate_price_per_unit(df, config):\n",
    "    \"\"\"Calculate price per unit\"\"\"\n",
    "    revenue_col = config['revenue_col']\n",
    "    quantity_col = config['quantity_col']\n",
    "\n",
    "    df['price_per_unit'] = np.where(\n",
    "        df[quantity_col] > 0,\n",
    "        df[revenue_col] / df[quantity_col],\n",
    "        0\n",
    "    )\n",
    "\n",
    "    return df"
   ]
  },
  {
   "cell_type": "code",
   "execution_count": 7,
   "metadata": {},
   "outputs": [
    {
     "name": "stdout",
     "output_type": "stream",
     "text": [
      "[OK] Registered feature: time_of_day (filter)\n"
     ]
    }
   ],
   "source": [
    "# Feature 4: Time of Day (depends on time_extraction)\n",
    "@feature(\n",
    "    name='time_of_day',\n",
    "    description='Classify transactions by time of day (Morning/Afternoon/Evening/Night)',\n",
    "    category='filter',\n",
    "    dtype='string',\n",
    "    depends_on=['time_extraction'],  # Needs hour column\n",
    "    tags=['time', 'segmentation']\n",
    ")\n",
    "def classify_time_of_day(df, config):\n",
    "    \"\"\"Classify time of day\"\"\"\n",
    "    def classify(hour):\n",
    "        if pd.isna(hour):\n",
    "            return 'Unknown'\n",
    "        elif 5 <= hour < 12:\n",
    "            return 'Morning'\n",
    "        elif 12 <= hour < 17:\n",
    "            return 'Afternoon'\n",
    "        elif 17 <= hour < 21:\n",
    "            return 'Evening'\n",
    "        else:\n",
    "            return 'Night'\n",
    "\n",
    "    df['time_of_day'] = df['hour'].apply(classify)\n",
    "    return df"
   ]
  },
  {
   "cell_type": "code",
   "execution_count": 8,
   "metadata": {},
   "outputs": [
    {
     "name": "stdout",
     "output_type": "stream",
     "text": [
      "[OK] Registered feature: is_weekend (filter)\n"
     ]
    }
   ],
   "source": [
    "# Feature 5: Weekend Flag (depends on time_extraction)\n",
    "@feature(\n",
    "    name='is_weekend',\n",
    "    description='Flag weekend transactions (Saturday/Sunday)',\n",
    "    category='filter',\n",
    "    dtype='boolean',\n",
    "    depends_on=['time_extraction'],  # Needs weekday_num column\n",
    "    tags=['time', 'segmentation']\n",
    ")\n",
    "def flag_weekend(df, config):\n",
    "    \"\"\"Flag weekend transactions\"\"\"\n",
    "    df['is_weekend'] = df['weekday_num'].isin([5, 6])\n",
    "    return df"
   ]
  },
  {
   "cell_type": "code",
   "execution_count": 9,
   "metadata": {},
   "outputs": [
    {
     "name": "stdout",
     "output_type": "stream",
     "text": [
      "[OK] Registered feature: transaction_size_category (filter)\n"
     ]
    }
   ],
   "source": [
    "# Feature 6: Transaction Size Category\n",
    "@feature(\n",
    "    name='transaction_size_category',\n",
    "    description='Categorize transaction size as Small/Medium/Large based on revenue quartiles',\n",
    "    category='filter',\n",
    "    dtype='string',\n",
    "    requires=['revenue_col'],\n",
    "    tags=['segmentation', 'revenue']\n",
    ")\n",
    "def categorize_transaction_size(df, config):\n",
    "    \"\"\"Categorize transaction size\"\"\"\n",
    "    revenue_col = config['revenue_col']\n",
    "\n",
    "    q33 = df[revenue_col].quantile(0.33)\n",
    "    q67 = df[revenue_col].quantile(0.67)\n",
    "\n",
    "    def categorize(value):\n",
    "        if value <= q33:\n",
    "            return 'Small'\n",
    "        elif value <= q67:\n",
    "            return 'Medium'\n",
    "        else:\n",
    "            return 'Large'\n",
    "\n",
    "    df['transaction_size'] = df[revenue_col].apply(categorize)\n",
    "    return df"
   ]
  },
  {
   "cell_type": "markdown",
   "metadata": {},
   "source": [
    "## 4. Introspect the Feature Registry\n",
    "\n",
    "Let's see what features are now available."
   ]
  },
  {
   "cell_type": "code",
   "execution_count": 10,
   "metadata": {},
   "outputs": [
    {
     "name": "stdout",
     "output_type": "stream",
     "text": [
      "\n",
      "======================================================================\n",
      "FEATURE REGISTRY STATISTICS\n",
      "======================================================================\n",
      "\n",
      "Total Features: 6\n",
      "\n",
      "By Category:\n",
      "  filter         :   6 features\n",
      "\n",
      "By Data Type:\n",
      "  boolean        :   1 features\n",
      "  float          :   2 features\n",
      "  integer        :   1 features\n",
      "  string         :   2 features\n",
      "\n",
      "Aggregations: 0 features\n",
      "Features with no dependencies: 4\n",
      "Average dependencies per feature: 0.33\n",
      "Max dependencies: 1\n",
      "\n",
      "Top Tags:\n",
      "  time           :   3 features\n",
      "  segmentation   :   3 features\n",
      "  preprocessing  :   1 features\n",
      "  financial      :   1 features\n",
      "  profitability  :   1 features\n",
      "  pricing        :   1 features\n",
      "  unit_economics :   1 features\n",
      "  revenue        :   1 features\n",
      "======================================================================\n",
      "\n"
     ]
    }
   ],
   "source": [
    "# Print registry statistics\n",
    "print_statistics(registry)"
   ]
  },
  {
   "cell_type": "code",
   "execution_count": 11,
   "metadata": {},
   "outputs": [
    {
     "name": "stdout",
     "output_type": "stream",
     "text": [
      "Available Features:\n",
      "======================================================================\n",
      "\n",
      "is_weekend\n",
      "  Description: Flag weekend transactions (Saturday/Sunday)\n",
      "  Category: filter\n",
      "  Requires: []\n",
      "  Depends on: ['time_extraction']\n",
      "  Tags: ['time', 'segmentation']\n",
      "\n",
      "price_per_unit\n",
      "  Description: Calculate price per unit: revenue / quantity\n",
      "  Category: filter\n",
      "  Requires: ['quantity_col', 'revenue_col']\n",
      "  Tags: ['pricing', 'unit_economics']\n",
      "\n",
      "profit_margin\n",
      "  Description: Calculate profit margin percentage: (revenue - cost) / revenue * 100\n",
      "  Category: filter\n",
      "  Requires: ['cost_col', 'revenue_col']\n",
      "  Tags: ['financial', 'profitability']\n",
      "\n",
      "time_extraction\n",
      "  Description: Extract time-based features (hour, weekday, month, etc.) from date column\n",
      "  Category: filter\n",
      "  Requires: ['date_col']\n",
      "  Tags: ['time', 'preprocessing']\n",
      "\n",
      "time_of_day\n",
      "  Description: Classify transactions by time of day (Morning/Afternoon/Evening/Night)\n",
      "  Category: filter\n",
      "  Requires: []\n",
      "  Depends on: ['time_extraction']\n",
      "  Tags: ['time', 'segmentation']\n",
      "\n",
      "transaction_size_category\n",
      "  Description: Categorize transaction size as Small/Medium/Large based on revenue quartiles\n",
      "  Category: filter\n",
      "  Requires: ['revenue_col']\n",
      "  Tags: ['segmentation', 'revenue']\n"
     ]
    }
   ],
   "source": [
    "# List all features\n",
    "print(\"Available Features:\")\n",
    "print(\"=\"*70)\n",
    "\n",
    "for name in sorted(registry.get_feature_names()):\n",
    "    info = registry.introspect(name)\n",
    "    print(f\"\\n{name}\")\n",
    "    print(f\"  Description: {info['description']}\")\n",
    "    print(f\"  Category: {info['category']}\")\n",
    "    print(f\"  Requires: {info['requires']}\")\n",
    "    if info['depends_on']:\n",
    "        print(f\"  Depends on: {info['depends_on']}\")\n",
    "    print(f\"  Tags: {info['tags']}\")"
   ]
  },
  {
   "cell_type": "markdown",
   "metadata": {},
   "source": [
    "## 5. Visualize Dependencies"
   ]
  },
  {
   "cell_type": "code",
   "execution_count": 12,
   "metadata": {},
   "outputs": [
    {
     "name": "stdout",
     "output_type": "stream",
     "text": [
      "Execution Order (with dependencies):\n",
      "======================================================================\n",
      "1. price_per_unit (no dependencies)\n",
      "2. profit_margin (no dependencies)\n",
      "3. time_extraction (no dependencies)\n",
      "4. is_weekend (after: time_extraction)\n",
      "5. time_of_day (after: time_extraction)\n",
      "6. transaction_size_category (no dependencies)\n"
     ]
    }
   ],
   "source": [
    "# Show execution order\n",
    "all_features = registry.get_feature_names()\n",
    "execution_order = registry.get_execution_order(all_features)\n",
    "\n",
    "print(\"Execution Order (with dependencies):\")\n",
    "print(\"=\"*70)\n",
    "for i, feature in enumerate(execution_order, 1):\n",
    "    deps = registry.get_dependencies(feature, recursive=False)\n",
    "    if deps:\n",
    "        print(f\"{i}. {feature} (after: {', '.join(deps)})\")\n",
    "    else:\n",
    "        print(f\"{i}. {feature} (no dependencies)\")"
   ]
  },
  {
   "cell_type": "markdown",
   "metadata": {},
   "source": [
    "## 6. Execute Features\n",
    "\n",
    "Now let's execute all features with automatic dependency resolution."
   ]
  },
  {
   "cell_type": "code",
   "execution_count": 13,
   "metadata": {},
   "outputs": [
    {
     "name": "stdout",
     "output_type": "stream",
     "text": [
      "[OK] All features validated successfully!\n"
     ]
    }
   ],
   "source": [
    "# Validate first\n",
    "is_valid, errors = executor.validate_inputs(all_features, config, df)\n",
    "\n",
    "if is_valid:\n",
    "    print(\"[OK] All features validated successfully!\")\n",
    "else:\n",
    "    print(\"[ERROR] Validation failed:\")\n",
    "    for error in errors:\n",
    "        print(f\"  - {error}\")"
   ]
  },
  {
   "cell_type": "code",
   "execution_count": 14,
   "metadata": {},
   "outputs": [
    {
     "name": "stdout",
     "output_type": "stream",
     "text": [
      "\n",
      "Executing 6 features...\n",
      "Order: price_per_unit -> profit_margin -> time_extraction -> is_weekend -> time_of_day -> transaction_size_category\n",
      "\n",
      "  * Executing: price_per_unit (filter)... [OK]\n",
      "  * Executing: profit_margin (filter)... [OK]\n",
      "  * Executing: time_extraction (filter)... [OK]\n",
      "  * Executing: is_weekend (filter)... [OK]\n",
      "  * Executing: time_of_day (filter)... [OK]\n",
      "  * Executing: transaction_size_category (filter)... [OK]\n",
      "\n",
      "[SUCCESS] Executed 6 features!\n",
      "\n",
      "Original columns: 10\n",
      "Final columns: 24\n",
      "New columns added: 14\n"
     ]
    }
   ],
   "source": [
    "# Execute all features\n",
    "result_df = executor.execute(\n",
    "    df,\n",
    "    all_features,\n",
    "    config,\n",
    "    verbose=True\n",
    ")\n",
    "\n",
    "print(f\"\\n[SUCCESS] Executed {len(all_features)} features!\")\n",
    "print(f\"\\nOriginal columns: {len(df.columns)}\")\n",
    "print(f\"Final columns: {len(result_df.columns)}\")\n",
    "print(f\"New columns added: {len(result_df.columns) - len(df.columns)}\")"
   ]
  },
  {
   "cell_type": "markdown",
   "metadata": {},
   "source": [
    "## 7. Inspect Results"
   ]
  },
  {
   "cell_type": "code",
   "execution_count": 15,
   "metadata": {},
   "outputs": [
    {
     "name": "stdout",
     "output_type": "stream",
     "text": [
      "New Columns Created (14):\n",
      "======================================================================\n",
      "  - price_per_unit\n",
      "  - profit_margin\n",
      "  - profit\n",
      "  - hour\n",
      "  - weekday\n",
      "  - weekday_num\n",
      "  - month\n",
      "  - month_name\n",
      "  - year\n",
      "  - week_of_year\n",
      "  - day_of_month\n",
      "  - is_weekend\n",
      "  - time_of_day\n",
      "  - transaction_size\n"
     ]
    }
   ],
   "source": [
    "# Show new columns\n",
    "new_cols = [col for col in result_df.columns if col not in df.columns]\n",
    "\n",
    "print(f\"New Columns Created ({len(new_cols)}):\")\n",
    "print(\"=\"*70)\n",
    "for col in new_cols:\n",
    "    print(f\"  - {col}\")"
   ]
  },
  {
   "cell_type": "code",
   "execution_count": 16,
   "metadata": {},
   "outputs": [
    {
     "data": {
      "text/html": [
       "<div>\n",
       "<style scoped>\n",
       "    .dataframe tbody tr th:only-of-type {\n",
       "        vertical-align: middle;\n",
       "    }\n",
       "\n",
       "    .dataframe tbody tr th {\n",
       "        vertical-align: top;\n",
       "    }\n",
       "\n",
       "    .dataframe thead th {\n",
       "        text-align: right;\n",
       "    }\n",
       "</style>\n",
       "<table border=\"1\" class=\"dataframe\">\n",
       "  <thead>\n",
       "    <tr style=\"text-align: right;\">\n",
       "      <th></th>\n",
       "      <th>producto</th>\n",
       "      <th>glosa</th>\n",
       "      <th>total</th>\n",
       "      <th>cantidad</th>\n",
       "      <th>profit_margin</th>\n",
       "      <th>price_per_unit</th>\n",
       "      <th>time_of_day</th>\n",
       "      <th>is_weekend</th>\n",
       "      <th>transaction_size</th>\n",
       "    </tr>\n",
       "  </thead>\n",
       "  <tbody>\n",
       "    <tr>\n",
       "      <th>0</th>\n",
       "      <td>ACC001</td>\n",
       "      <td>LLAVE TUERCAS CRUZ 4 PUNTAS</td>\n",
       "      <td>15000</td>\n",
       "      <td>1</td>\n",
       "      <td>43.333333</td>\n",
       "      <td>15000.0</td>\n",
       "      <td>Morning</td>\n",
       "      <td>False</td>\n",
       "      <td>Small</td>\n",
       "    </tr>\n",
       "    <tr>\n",
       "      <th>1</th>\n",
       "      <td>TIRE001</td>\n",
       "      <td>NEUMATICO 195/65 R15 VERANO</td>\n",
       "      <td>75000</td>\n",
       "      <td>1</td>\n",
       "      <td>40.000000</td>\n",
       "      <td>75000.0</td>\n",
       "      <td>Afternoon</td>\n",
       "      <td>False</td>\n",
       "      <td>Large</td>\n",
       "    </tr>\n",
       "    <tr>\n",
       "      <th>2</th>\n",
       "      <td>OIL002</td>\n",
       "      <td>ACEITE MOTOR 15W40 MINERAL 4L</td>\n",
       "      <td>12000</td>\n",
       "      <td>1</td>\n",
       "      <td>33.333333</td>\n",
       "      <td>12000.0</td>\n",
       "      <td>Afternoon</td>\n",
       "      <td>False</td>\n",
       "      <td>Small</td>\n",
       "    </tr>\n",
       "    <tr>\n",
       "      <th>3</th>\n",
       "      <td>OIL002</td>\n",
       "      <td>ACEITE MOTOR 15W40 MINERAL 4L</td>\n",
       "      <td>12000</td>\n",
       "      <td>1</td>\n",
       "      <td>33.333333</td>\n",
       "      <td>12000.0</td>\n",
       "      <td>Afternoon</td>\n",
       "      <td>False</td>\n",
       "      <td>Small</td>\n",
       "    </tr>\n",
       "    <tr>\n",
       "      <th>4</th>\n",
       "      <td>ENG004</td>\n",
       "      <td>TERMOSTATO MOTOR</td>\n",
       "      <td>28000</td>\n",
       "      <td>1</td>\n",
       "      <td>46.428571</td>\n",
       "      <td>28000.0</td>\n",
       "      <td>Morning</td>\n",
       "      <td>False</td>\n",
       "      <td>Medium</td>\n",
       "    </tr>\n",
       "    <tr>\n",
       "      <th>5</th>\n",
       "      <td>TIRE001</td>\n",
       "      <td>NEUMATICO 195/65 R15 VERANO</td>\n",
       "      <td>150000</td>\n",
       "      <td>2</td>\n",
       "      <td>70.000000</td>\n",
       "      <td>75000.0</td>\n",
       "      <td>Morning</td>\n",
       "      <td>False</td>\n",
       "      <td>Large</td>\n",
       "    </tr>\n",
       "    <tr>\n",
       "      <th>6</th>\n",
       "      <td>TIRE003</td>\n",
       "      <td>NEUMATICO 185/60 R14 INVIERNO</td>\n",
       "      <td>170000</td>\n",
       "      <td>2</td>\n",
       "      <td>70.588235</td>\n",
       "      <td>85000.0</td>\n",
       "      <td>Morning</td>\n",
       "      <td>False</td>\n",
       "      <td>Large</td>\n",
       "    </tr>\n",
       "    <tr>\n",
       "      <th>7</th>\n",
       "      <td>ACC003</td>\n",
       "      <td>LIQUIDO FRENOS DOT 4 500ML</td>\n",
       "      <td>8500</td>\n",
       "      <td>1</td>\n",
       "      <td>47.058824</td>\n",
       "      <td>8500.0</td>\n",
       "      <td>Morning</td>\n",
       "      <td>False</td>\n",
       "      <td>Small</td>\n",
       "    </tr>\n",
       "    <tr>\n",
       "      <th>8</th>\n",
       "      <td>ENG002</td>\n",
       "      <td>CORREA DISTRIBUCION MOTOR</td>\n",
       "      <td>120000</td>\n",
       "      <td>2</td>\n",
       "      <td>70.833333</td>\n",
       "      <td>60000.0</td>\n",
       "      <td>Morning</td>\n",
       "      <td>False</td>\n",
       "      <td>Large</td>\n",
       "    </tr>\n",
       "    <tr>\n",
       "      <th>9</th>\n",
       "      <td>OIL002</td>\n",
       "      <td>ACEITE MOTOR 15W40 MINERAL 4L</td>\n",
       "      <td>24000</td>\n",
       "      <td>2</td>\n",
       "      <td>66.666667</td>\n",
       "      <td>12000.0</td>\n",
       "      <td>Morning</td>\n",
       "      <td>False</td>\n",
       "      <td>Medium</td>\n",
       "    </tr>\n",
       "  </tbody>\n",
       "</table>\n",
       "</div>"
      ],
      "text/plain": [
       "  producto                          glosa   total  cantidad  profit_margin  \\\n",
       "0   ACC001    LLAVE TUERCAS CRUZ 4 PUNTAS   15000         1      43.333333   \n",
       "1  TIRE001    NEUMATICO 195/65 R15 VERANO   75000         1      40.000000   \n",
       "2   OIL002  ACEITE MOTOR 15W40 MINERAL 4L   12000         1      33.333333   \n",
       "3   OIL002  ACEITE MOTOR 15W40 MINERAL 4L   12000         1      33.333333   \n",
       "4   ENG004               TERMOSTATO MOTOR   28000         1      46.428571   \n",
       "5  TIRE001    NEUMATICO 195/65 R15 VERANO  150000         2      70.000000   \n",
       "6  TIRE003  NEUMATICO 185/60 R14 INVIERNO  170000         2      70.588235   \n",
       "7   ACC003     LIQUIDO FRENOS DOT 4 500ML    8500         1      47.058824   \n",
       "8   ENG002      CORREA DISTRIBUCION MOTOR  120000         2      70.833333   \n",
       "9   OIL002  ACEITE MOTOR 15W40 MINERAL 4L   24000         2      66.666667   \n",
       "\n",
       "   price_per_unit time_of_day  is_weekend transaction_size  \n",
       "0         15000.0     Morning       False            Small  \n",
       "1         75000.0   Afternoon       False            Large  \n",
       "2         12000.0   Afternoon       False            Small  \n",
       "3         12000.0   Afternoon       False            Small  \n",
       "4         28000.0     Morning       False           Medium  \n",
       "5         75000.0     Morning       False            Large  \n",
       "6         85000.0     Morning       False            Large  \n",
       "7          8500.0     Morning       False            Small  \n",
       "8         60000.0     Morning       False            Large  \n",
       "9         12000.0     Morning       False           Medium  "
      ]
     },
     "execution_count": 16,
     "metadata": {},
     "output_type": "execute_result"
    }
   ],
   "source": [
    "# Sample the results\n",
    "display_cols = ['producto', 'glosa', 'total', 'cantidad', 'profit_margin', \n",
    "                'price_per_unit', 'time_of_day', 'is_weekend', 'transaction_size']\n",
    "\n",
    "result_df[display_cols].head(10)"
   ]
  },
  {
   "cell_type": "markdown",
   "metadata": {},
   "source": [
    "## 8. Analyze Results"
   ]
  },
  {
   "cell_type": "code",
   "execution_count": 17,
   "metadata": {},
   "outputs": [
    {
     "name": "stdout",
     "output_type": "stream",
     "text": [
      "Profit Margin Statistics:\n",
      "======================================================================\n",
      "count    5527.000000\n",
      "mean       58.329481\n",
      "std        17.753639\n",
      "min        33.333333\n",
      "25%        41.379310\n",
      "50%        66.666667\n",
      "75%        71.052632\n",
      "max        89.411765\n",
      "Name: profit_margin, dtype: float64\n",
      "\n",
      "Transactions by Time of Day:\n",
      "time_of_day\n",
      "Morning      3136\n",
      "Afternoon    2070\n",
      "Evening       321\n",
      "Name: count, dtype: int64\n",
      "\n",
      "Weekend vs Weekday:\n",
      "is_weekend\n",
      "False    5190\n",
      "True      337\n",
      "Name: count, dtype: int64\n",
      "\n",
      "Transaction Size Distribution:\n",
      "transaction_size\n",
      "Medium    1866\n",
      "Small     1839\n",
      "Large     1822\n",
      "Name: count, dtype: int64\n"
     ]
    }
   ],
   "source": [
    "# Profit margin distribution\n",
    "print(\"Profit Margin Statistics:\")\n",
    "print(\"=\"*70)\n",
    "print(result_df['profit_margin'].describe())\n",
    "\n",
    "print(\"\\nTransactions by Time of Day:\")\n",
    "print(result_df['time_of_day'].value_counts())\n",
    "\n",
    "print(\"\\nWeekend vs Weekday:\")\n",
    "print(result_df['is_weekend'].value_counts())\n",
    "\n",
    "print(\"\\nTransaction Size Distribution:\")\n",
    "print(result_df['transaction_size'].value_counts())"
   ]
  },
  {
   "cell_type": "markdown",
   "metadata": {},
   "source": [
    "## 9. Test Dependency Resolution\n",
    "\n",
    "Let's execute just one feature that has dependencies and see the engine automatically resolve them."
   ]
  },
  {
   "cell_type": "code",
   "execution_count": 18,
   "metadata": {},
   "outputs": [
    {
     "name": "stdout",
     "output_type": "stream",
     "text": [
      "Executing 'time_of_day' with automatic dependency resolution:\n",
      "======================================================================\n",
      "Feature 'time_of_day' requires 1 dependencies:\n",
      "  - time_extraction\n",
      "\n",
      "Executing 2 features...\n",
      "Order: time_extraction -> time_of_day\n",
      "\n",
      "  * Executing: time_extraction (filter)... [OK]\n",
      "  * Executing: time_of_day (filter)... [OK]\n",
      "\n",
      "Columns created:\n",
      "  - hour\n",
      "  - weekday\n",
      "  - weekday_num\n",
      "  - month\n",
      "  - month_name\n",
      "  - year\n",
      "  - week_of_year\n",
      "  - day_of_month\n",
      "  - time_of_day\n"
     ]
    }
   ],
   "source": [
    "# Execute time_of_day which depends on time_extraction\n",
    "test_df = df.copy()\n",
    "\n",
    "print(\"Executing 'time_of_day' with automatic dependency resolution:\")\n",
    "print(\"=\"*70)\n",
    "\n",
    "test_result = executor.execute_with_dependencies(\n",
    "    test_df,\n",
    "    'time_of_day',\n",
    "    config,\n",
    "    verbose=True\n",
    ")\n",
    "\n",
    "print(\"\\nColumns created:\")\n",
    "new_test_cols = [col for col in test_result.columns if col not in test_df.columns]\n",
    "for col in new_test_cols:\n",
    "    print(f\"  - {col}\")"
   ]
  },
  {
   "cell_type": "markdown",
   "metadata": {},
   "source": [
    "## 10. Performance Comparison\n",
    "\n",
    "Let's compare execution time between old and new approaches."
   ]
  },
  {
   "cell_type": "code",
   "execution_count": 19,
   "metadata": {},
   "outputs": [
    {
     "name": "stdout",
     "output_type": "stream",
     "text": [
      "Performance Results:\n",
      "======================================================================\n",
      "Feature Engine: 0.0146 seconds\n",
      "Features executed: 6\n",
      "Rows processed: 5,527\n",
      "Throughput: 377,328 rows/second\n"
     ]
    }
   ],
   "source": [
    "import time\n",
    "\n",
    "# New approach\n",
    "start = time.time()\n",
    "result_new = executor.execute(df, all_features, config, verbose=False)\n",
    "time_new = time.time() - start\n",
    "\n",
    "print(\"Performance Results:\")\n",
    "print(\"=\"*70)\n",
    "print(f\"Feature Engine: {time_new:.4f} seconds\")\n",
    "print(f\"Features executed: {len(all_features)}\")\n",
    "print(f\"Rows processed: {len(df):,}\")\n",
    "print(f\"Throughput: {len(df)/time_new:,.0f} rows/second\")"
   ]
  },
  {
   "cell_type": "markdown",
   "metadata": {},
   "source": [
    "## 11. Generate Feature Catalog\n",
    "\n",
    "Create documentation for all features."
   ]
  },
  {
   "cell_type": "code",
   "execution_count": 20,
   "metadata": {},
   "outputs": [
    {
     "name": "stdout",
     "output_type": "stream",
     "text": [
      "[OK] Feature catalog saved to: docs/FEATURE_CATALOG_AUTO.md\n",
      "\n",
      "Preview:\n",
      "======================================================================\n",
      "# Feature Catalog\n",
      "\n",
      "**Generated:** 2025-10-07T15:32:06.018071\n",
      "**Total Features:** 6\n",
      "\n",
      "## FILTER\n",
      "\n",
      "*6 features*\n",
      "\n",
      "### `is_weekend`\n",
      "\n",
      "**Description:** Flag weekend transactions (Saturday/Sunday)\n",
      "\n",
      "**Type:** `boolean`\n",
      "\n",
      "**Depends On:** `time_extraction`\n",
      "\n",
      "**Tags:** time, segmentation\n",
      "\n",
      "**Version:** 1.0.0\n",
      "\n",
      "---\n",
      "\n",
      "### `price_per_unit`\n",
      "\n",
      "**Description:** Calculate price per unit: revenue / quantity\n",
      "\n",
      "**Type:** `float`\n",
      "\n",
      "**Requires:** `quantity_col, revenue_col`\n",
      "\n",
      "**Tags:** pricing, unit_economics\n",
      "\n",
      "**Version:** 1.0.0...\n"
     ]
    }
   ],
   "source": [
    "# Generate catalog as Markdown\n",
    "catalog_md = get_feature_catalog(registry, format='markdown')\n",
    "\n",
    "# Save to file\n",
    "with open('docs/FEATURE_CATALOG_AUTO.md', 'w') as f:\n",
    "    f.write(catalog_md)\n",
    "\n",
    "print(\"[OK] Feature catalog saved to: docs/FEATURE_CATALOG_AUTO.md\")\n",
    "print(\"\\nPreview:\")\n",
    "print(\"=\"*70)\n",
    "print(catalog_md[:500] + \"...\")"
   ]
  },
  {
   "cell_type": "markdown",
   "metadata": {},
   "source": [
    "## Summary\n",
    "\n",
    "### Key Takeaways:\n",
    "\n",
    "1. **Self-Documenting**: Each feature declares its requirements\n",
    "2. **Automatic Dependencies**: Features execute in correct order automatically\n",
    "3. **Introspection**: Can discover and inspect features at runtime\n",
    "4. **Validation**: Catches errors before execution\n",
    "5. **Extensible**: Add new features by decorating functions\n",
    "\n",
    "### Next Steps:\n",
    "\n",
    "1. Migrate remaining features from `waterfall/scripts/filters.py`\n",
    "2. Add aggregation features (attributes)\n",
    "3. Add scoring features\n",
    "4. Integrate with existing dashboard generation\n",
    "5. Update `main_driver.py` to use feature engine"
   ]
  }
 ],
 "metadata": {
  "kernelspec": {
   "display_name": "venv (3.12.7)",
   "language": "python",
   "name": "python3"
  },
  "language_info": {
   "codemirror_mode": {
    "name": "ipython",
    "version": 3
   },
   "file_extension": ".py",
   "mimetype": "text/x-python",
   "name": "python",
   "nbconvert_exporter": "python",
   "pygments_lexer": "ipython3",
   "version": "3.12.7"
  }
 },
 "nbformat": 4,
 "nbformat_minor": 4
}
