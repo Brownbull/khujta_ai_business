{
 "cells": [
  {
   "cell_type": "markdown",
   "id": "d93e7e08",
   "metadata": {},
   "source": [
    "# 📊 Business Intelligence Dashboard\n",
    "**Automated insights for data-driven decisions**"
   ]
  },
  {
   "cell_type": "code",
   "execution_count": 5,
   "id": "2e57a2e5",
   "metadata": {},
   "outputs": [],
   "source": [
    "input_file = 'data/auto_partes/auto_partes_transactions.csv'  # Input CSV file\n",
    "\n",
    "config = {\n",
    "    'project_name': 'auto_partes',       # Project name\n",
    "    'out_dir' : 'outputs',               # Output directory\n",
    "    \n",
    "    # Data mapping\n",
    "    'date_col': 'fecha',\n",
    "    'product_col': 'producto',\n",
    "    'description_col': 'glosa',\n",
    "    'revenue_col': 'total',\n",
    "    'quantity_col': 'cantidad',\n",
    "    'transaction_col': 'trans_id',\n",
    "    'cost_col': 'costo',    \n",
    "    \n",
    "    # Analysis settings\n",
    "    'analysis_date': '2024-07-01',      # Or 'current' for today\n",
    "    'top_products_threshold': 0.2,\n",
    "    'dead_stock_days': 30,\n",
    "    'currency_format': 'CLP',\n",
    "    'language': 'EN',\n",
    "}\n",
    "\n",
    "save = True  # True to save outputs, False to just print"
   ]
  },
  {
   "cell_type": "code",
   "execution_count": 6,
   "id": "1022a7fe",
   "metadata": {},
   "outputs": [
    {
     "name": "stdout",
     "output_type": "stream",
     "text": [
      "Output directory set to: outputs\\auto_partes\\20251001_1611\n"
     ]
    }
   ],
   "source": [
    "from modules.business_analytics import BusinessAnalyzer\n",
    "from modules.dashboard import ExecutiveDashboard\n",
    "from modules.advanced_analytics import AdvancedAnalytics\n",
    "from modules.reports import *\n",
    "from modules.misc_ops import *\n",
    "\n",
    "# Load data and initialize\n",
    "analyzer = BusinessAnalyzer(\n",
    "    data_source=input_file,\n",
    "    config=config\n",
    ")"
   ]
  },
  {
   "cell_type": "markdown",
   "id": "06938a63",
   "metadata": {},
   "source": [
    "## 🎯 Quick Summary"
   ]
  },
  {
   "cell_type": "code",
   "execution_count": null,
   "id": "5d8c6a72",
   "metadata": {},
   "outputs": [
    {
     "name": "stdout",
     "output_type": "stream",
     "text": [
      "Dashboard output directory: outputs\\auto_partes\\20251001_1611\n",
      "Advanced analytics output directory: outputs\\auto_partes\\20251001_1611\n",
      "🎯 TOP INSIGHT: Your top 7 products (20% of catalog) generate 59.3% of revenue!\n",
      "\n",
      "Concentration Risk Level: Low\n",
      "\n",
      "📋 Top 5 Revenue Generators:\n",
      "  1. NEUMATICO 185/60 R14 INVIERNO: $ 79.475.000\n",
      "  2. NEUMATICO 195/65 R15 VERANO: $ 33.675.000\n",
      "  3. NEUMATICO 205/55 R16 VERANO: $ 29.340.000\n",
      "  4. ACEITE MOTOR 5W30 SINTETICO 4L: $ 25.560.000\n",
      "  5. NEUMATICO 215/60 R17 TODO TERRENO: $ 24.780.000\n",
      "\n",
      "📊 80/20 Rule: Top 20% = 59.3% of revenue\n",
      "📊 Inventory Health Score: 58%\n",
      "\n",
      "⚠️ Dead Stock Alert: 0 products\n",
      "\n",
      "🟡 Products At Risk (Slowing):\n",
      "  • PIEZA MOTOR ALFA ROMEO CLASICO: 57 days since last sale\n",
      "  • KIT SUSPENSION RACING: 32 days since last sale\n",
      "✅ Dashboard summary exported to outputs\\auto_partes\\20251001_1611/DASH_summary.txt\n"
     ]
    }
   ],
   "source": [
    "dashboard = ExecutiveDashboard(analyzer)\n",
    "advanced = AdvancedAnalytics(analyzer)\n",
    "summary = dashboard.create_quick_summary(save=save)\n",
    "    \"\"\"\n",
    "        self.kpis = None\n",
    "        self.alerts = None\n",
    "        self.pareto = None\n",
    "        self.inventory = None\n",
    "    \"\"\""
   ]
  },
  {
   "cell_type": "markdown",
   "id": "f7b19140",
   "metadata": {},
   "source": [
    "## 📊 KPIs"
   ]
  },
  {
   "cell_type": "code",
   "execution_count": 8,
   "id": "f9756c87",
   "metadata": {},
   "outputs": [
    {
     "name": "stdout",
     "output_type": "stream",
     "text": [
      "✅ KPIs exported to outputs\\auto_partes\\20251001_1611/BA_kpi.txt\n"
     ]
    }
   ],
   "source": [
    "kpis = analyzer.get_kpis()\n",
    "print_info(analyzer.print_kpis(), analyzer.out_dir, \"BA_kpi.txt\", save=save)"
   ]
  },
  {
   "cell_type": "markdown",
   "id": "8afba114",
   "metadata": {},
   "source": [
    "## 🚨 Alerts & Actions"
   ]
  },
  {
   "cell_type": "code",
   "execution_count": 11,
   "id": "e86e8bd0",
   "metadata": {},
   "outputs": [
    {
     "name": "stdout",
     "output_type": "stream",
     "text": [
      "✅ KPIs exported to outputs\\auto_partes\\20251001_1611/BA_alerts.txt\n"
     ]
    }
   ],
   "source": [
    "alerts = analyzer.get_alerts()\n",
    "print_info(analyzer.print_alerts(), analyzer.out_dir, \"BA_alerts.txt\", save=save)"
   ]
  },
  {
   "cell_type": "markdown",
   "id": "308a14bb",
   "metadata": {},
   "source": [
    "## 💰 Revenue Concentration Analysis"
   ]
  },
  {
   "cell_type": "code",
   "execution_count": null,
   "id": "6b6ac9d0",
   "metadata": {},
   "outputs": [],
   "source": [
    "pareto = analyzer.get_pareto_insights(save=save)"
   ]
  },
  {
   "cell_type": "markdown",
   "id": "5ae48232",
   "metadata": {},
   "source": [
    "## 📦 Inventory Health Check"
   ]
  },
  {
   "cell_type": "code",
   "execution_count": null,
   "id": "64fd256a",
   "metadata": {},
   "outputs": [],
   "source": [
    "inventory = analyzer.get_inventory_health(save=save)"
   ]
  },
  {
   "cell_type": "markdown",
   "id": "a27e4f32",
   "metadata": {},
   "source": [
    "## ⏰ Operational Efficiency"
   ]
  },
  {
   "cell_type": "code",
   "execution_count": null,
   "id": "24626cfa",
   "metadata": {},
   "outputs": [],
   "source": [
    "peak_times = analyzer.get_peak_times(save=save)"
   ]
  },
  {
   "cell_type": "markdown",
   "id": "becd5aad",
   "metadata": {},
   "source": [
    "# Visuals"
   ]
  },
  {
   "cell_type": "markdown",
   "id": "7c0d6c40",
   "metadata": {},
   "source": [
    "## 📊 Executive Dashboard"
   ]
  },
  {
   "cell_type": "code",
   "execution_count": null,
   "id": "fd3409d8",
   "metadata": {},
   "outputs": [],
   "source": [
    "# Create and display the executive dashboard\n",
    "fig = dashboard.create_full_dashboard(figsize=(20, 12), save=save)"
   ]
  },
  {
   "cell_type": "markdown",
   "id": "b74473c9",
   "metadata": {},
   "source": [
    "## 📈 Trend analysis"
   ]
  },
  {
   "cell_type": "code",
   "execution_count": null,
   "id": "068860aa",
   "metadata": {},
   "outputs": [],
   "source": [
    "trend_fig = advanced.create_trend_analysis(figsize=(15, 10), save=save)"
   ]
  },
  {
   "cell_type": "markdown",
   "id": "266ef2a8",
   "metadata": {},
   "source": [
    "## Product velocity"
   ]
  },
  {
   "cell_type": "code",
   "execution_count": null,
   "id": "65a169be",
   "metadata": {},
   "outputs": [],
   "source": [
    "velocity_fig = product_velocity_matrix(analyzer, save=save)"
   ]
  },
  {
   "cell_type": "markdown",
   "id": "e512b33a",
   "metadata": {},
   "source": [
    "# Advanced Analytics"
   ]
  },
  {
   "cell_type": "markdown",
   "id": "a5cc046a",
   "metadata": {},
   "source": [
    "## 📈 Forecast"
   ]
  },
  {
   "cell_type": "code",
   "execution_count": null,
   "id": "3909e4e3",
   "metadata": {},
   "outputs": [],
   "source": [
    "forecast = advanced.forecast_revenue(days_ahead=30, save=save)"
   ]
  },
  {
   "cell_type": "markdown",
   "id": "df02e687",
   "metadata": {},
   "source": [
    "## 🛍️ Cross-sell opportunities"
   ]
  },
  {
   "cell_type": "code",
   "execution_count": null,
   "id": "8a66cc7f",
   "metadata": {},
   "outputs": [],
   "source": [
    "cross_sell = advanced.find_cross_sell_opportunities(save=save)"
   ]
  },
  {
   "cell_type": "markdown",
   "id": "8e9b7157",
   "metadata": {},
   "source": [
    "## ⚠️ Anomalies"
   ]
  },
  {
   "cell_type": "code",
   "execution_count": null,
   "id": "3a9b73ea",
   "metadata": {},
   "outputs": [],
   "source": [
    "anomalies = advanced.anomaly_detection(save=save)"
   ]
  },
  {
   "cell_type": "markdown",
   "id": "bd5d379c",
   "metadata": {},
   "source": [
    "## 💡 Top Recommmendations"
   ]
  },
  {
   "cell_type": "code",
   "execution_count": null,
   "id": "884ea2f5",
   "metadata": {},
   "outputs": [],
   "source": [
    "recommendations = advanced.generate_recommendations(save=save)"
   ]
  },
  {
   "cell_type": "markdown",
   "id": "19ef7bec",
   "metadata": {},
   "source": [
    "# Reports"
   ]
  },
  {
   "cell_type": "markdown",
   "id": "3306211e",
   "metadata": {},
   "source": [
    "## Weekly Comparison Report"
   ]
  },
  {
   "cell_type": "code",
   "execution_count": null,
   "id": "8ea03308",
   "metadata": {},
   "outputs": [],
   "source": [
    "weekly_comparison_report = weekly_comparison_report(analyzer, save=save)"
   ]
  },
  {
   "cell_type": "markdown",
   "id": "85693c26",
   "metadata": {},
   "source": [
    "# Executive Summary"
   ]
  },
  {
   "cell_type": "code",
   "execution_count": null,
   "id": "c8cf2eeb",
   "metadata": {},
   "outputs": [],
   "source": [
    "analyzer.save_executive_summary(save=save)"
   ]
  }
 ],
 "metadata": {
  "kernelspec": {
   "display_name": "venv (3.12.7)",
   "language": "python",
   "name": "python3"
  },
  "language_info": {
   "codemirror_mode": {
    "name": "ipython",
    "version": 3
   },
   "file_extension": ".py",
   "mimetype": "text/x-python",
   "name": "python",
   "nbconvert_exporter": "python",
   "pygments_lexer": "ipython3",
   "version": "3.12.7"
  }
 },
 "nbformat": 4,
 "nbformat_minor": 5
}
