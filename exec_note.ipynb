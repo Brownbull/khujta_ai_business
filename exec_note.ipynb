{
 "cells": [
  {
   "cell_type": "markdown",
   "id": "d93e7e08",
   "metadata": {},
   "source": [
    "# 📊 Executive Business Intelligence Dashboard\n",
    "**Automated insights for data-driven decisions**"
   ]
  },
  {
   "cell_type": "code",
   "execution_count": null,
   "id": "2e57a2e5",
   "metadata": {},
   "outputs": [],
   "source": [
    "input_file = 'data/auto_partes/auto_partes_transactions.csv'  # Input CSV file\n",
    "\n",
    "config = {\n",
    "    'project_name': 'auto_partes',      # Project name\n",
    "    'analysis_date': '2024-07-01',      # Or 'current' for today\n",
    "    'top_products_threshold': 0.2,      # Top 20% products\n",
    "    'dead_stock_days': 30,              # Days without sales to consider dead stock\n",
    "    'currency_format': 'CLP',           # Chilean Peso\n",
    "    'date_col': 'fecha',                # Date column\n",
    "    'product_col': 'producto',          # Product column\n",
    "    'description_col': 'glosa',         # Description column\n",
    "    'revenue_col': 'total',             # Revenue column\n",
    "    'quantity_col': 'cantidad',         # Quantity column\n",
    "    'transaction_col': 'trans_id',      # Transaction ID column\n",
    "    'out_dir' : 'outputs'          # Output directory\n",
    "}\n",
    "\n",
    "save = False  # True to save outputs, False to just print"
   ]
  },
  {
   "cell_type": "code",
   "execution_count": null,
   "id": "1022a7fe",
   "metadata": {},
   "outputs": [],
   "source": [
    "from modules.business_analytics import BusinessAnalyzer\n",
    "from modules.dashboard import ExecutiveDashboard\n",
    "\n",
    "# Load data and initialize\n",
    "analyzer = BusinessAnalyzer(\n",
    "    data_source=input_file,\n",
    "    config=config\n",
    ")"
   ]
  },
  {
   "cell_type": "markdown",
   "id": "06938a63",
   "metadata": {},
   "source": [
    "## 🎯 Executive Summary"
   ]
  },
  {
   "cell_type": "code",
   "execution_count": null,
   "id": "5d8c6a72",
   "metadata": {},
   "outputs": [],
   "source": [
    "dashboard = ExecutiveDashboard(analyzer)\n",
    "print(dashboard.create_quick_summary(save=save))"
   ]
  },
  {
   "cell_type": "markdown",
   "id": "112b8b80",
   "metadata": {},
   "source": [
    "## 📈 Comprehensive Dashboard"
   ]
  },
  {
   "cell_type": "code",
   "execution_count": null,
   "id": "4caf99ba",
   "metadata": {},
   "outputs": [],
   "source": [
    "# Create and display the executive dashboard\n",
    "fig = dashboard.create_full_dashboard(figsize=(20, 12), save=save)"
   ]
  },
  {
   "cell_type": "markdown",
   "id": "308a14bb",
   "metadata": {},
   "source": [
    "## 💰 Revenue Concentration Analysis"
   ]
  },
  {
   "cell_type": "code",
   "execution_count": null,
   "id": "6b6ac9d0",
   "metadata": {},
   "outputs": [],
   "source": [
    "pareto = analyzer.get_pareto_insights(save=save)"
   ]
  },
  {
   "cell_type": "markdown",
   "id": "5ae48232",
   "metadata": {},
   "source": [
    "## 📦 Inventory Health Check"
   ]
  },
  {
   "cell_type": "code",
   "execution_count": null,
   "id": "64fd256a",
   "metadata": {},
   "outputs": [],
   "source": [
    "inventory = analyzer.get_inventory_health(save=save)"
   ]
  },
  {
   "cell_type": "markdown",
   "id": "a27e4f32",
   "metadata": {},
   "source": [
    "## ⏰ Operational Efficiency"
   ]
  },
  {
   "cell_type": "code",
   "execution_count": null,
   "id": "24626cfa",
   "metadata": {},
   "outputs": [],
   "source": [
    "peak_times = analyzer.get_peak_times(save=save)"
   ]
  },
  {
   "cell_type": "markdown",
   "id": "db0cdaf2",
   "metadata": {},
   "source": [
    "## 🚨 Alerts & Actions"
   ]
  },
  {
   "cell_type": "code",
   "execution_count": null,
   "id": "6584c206",
   "metadata": {},
   "outputs": [],
   "source": [
    "alerts = analyzer.get_alerts(save=save)"
   ]
  },
  {
   "cell_type": "markdown",
   "id": "85693c26",
   "metadata": {},
   "source": [
    "## 📊 Exports"
   ]
  },
  {
   "cell_type": "code",
   "execution_count": null,
   "id": "c8cf2eeb",
   "metadata": {},
   "outputs": [],
   "source": [
    "# Export key metrics to CSV\n",
    "analyzer.save_executive_summary(save=save)"
   ]
  }
 ],
 "metadata": {
  "kernelspec": {
   "display_name": "venv (3.12.7)",
   "language": "python",
   "name": "python3"
  },
  "language_info": {
   "codemirror_mode": {
    "name": "ipython",
    "version": 3
   },
   "file_extension": ".py",
   "mimetype": "text/x-python",
   "name": "python",
   "nbconvert_exporter": "python",
   "pygments_lexer": "ipython3",
   "version": "3.12.7"
  }
 },
 "nbformat": 4,
 "nbformat_minor": 5
}
