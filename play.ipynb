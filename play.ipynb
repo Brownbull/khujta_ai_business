{
 "cells": [
  {
   "cell_type": "markdown",
   "id": "e10df231",
   "metadata": {},
   "source": [
    "## Configuration"
   ]
  },
  {
   "cell_type": "code",
   "execution_count": 12,
   "id": "daf78cc3",
   "metadata": {},
   "outputs": [],
   "source": [
    "khujta_cfg = {\n",
    "    # Project settings\n",
    "    'input_file': 'data/test_client/comercializadora_transactions_10.csv',  # Input CSV file\n",
    "    'out_dir': 'data',\n",
    "    'client': 'test_client',\n",
    "    'fidx_config': {'type': 'local', 'path': 'feature_store'},\n",
    "    \n",
    "    # Analysis settings\n",
    "    'analysis_dt': '2024-12-02',\n",
    "    'language': 'EN',\n",
    "    \n",
    "    # Logging and performance\n",
    "    'log_level': 'INFO',               # 'DEBUG', 'INFO', 'WARNING','ERROR', 'CRITICAL'\n",
    "    \n",
    "    # Column Mappings\n",
    "    'column_mappings': {\n",
    "        'in_dt': 'fecha',\n",
    "        'in_trans_id': 'trans_id',\n",
    "        'in_product': 'producto',\n",
    "        'in_description': 'glosa',\n",
    "        'in_cost': 'costo',\n",
    "        'in_price': 'precio',\n",
    "        'in_quantity': 'cantidad',\n",
    "        'in_total_price': 'total',\n",
    "        'in_customer_id': 'customer_id',\n",
    "        'in_customer_name': 'customer_name',\n",
    "        'in_customer_location': 'customer_location',\n",
    "    },\n",
    "    \n",
    "    # Column Types\n",
    "    'column_types' : {\n",
    "        'in_dt': 'date',\n",
    "        'in_trans_id': 'str',\n",
    "        'in_product': 'str',\n",
    "        'in_description': 'str',\n",
    "        'in_cost': 'float',\n",
    "        'in_price': 'float',\n",
    "        'in_quantity': 'float',\n",
    "        'in_total_price': 'float',\n",
    "        'in_customer_id': 'str',\n",
    "        'in_customer_name': 'str',\n",
    "        'in_customer_location': 'str',\n",
    "    },\n",
    "}\n",
    "\n",
    "# General imports\n",
    "import os\n",
    "import pandas as pd\n",
    "import numpy as np"
   ]
  },
  {
   "cell_type": "markdown",
   "id": "31d5bc48",
   "metadata": {},
   "source": [
    "## Logging and otuput"
   ]
  },
  {
   "cell_type": "code",
   "execution_count": 13,
   "id": "deadbf13",
   "metadata": {},
   "outputs": [
    {
     "name": "stdout",
     "output_type": "stream",
     "text": [
      "📝 Run instance ID: test_client_20251008_133649 - Logging [INFO] to: logs\\test_client_20251008_133649.log\n"
     ]
    }
   ],
   "source": [
    "# Initialize logging from config\n",
    "from src.logger import setup_logging\n",
    "setup_logging(log_level=khujta_cfg.get('log_level', 'INFO'), config=khujta_cfg)\n",
    "\n",
    "# Create output directory if it doesn't exist\n",
    "out_path = f\"{khujta_cfg['out_dir']}/{khujta_cfg['client']}\"\n",
    "os.makedirs(out_path, exist_ok=True)"
   ]
  },
  {
   "cell_type": "markdown",
   "id": "56b07d34",
   "metadata": {},
   "source": [
    "## GabedaContext + ModelExecutor"
   ]
  },
  {
   "cell_type": "code",
   "execution_count": 14,
   "id": "5f537605",
   "metadata": {},
   "outputs": [],
   "source": [
    "# Step 1: Import new architecture components\n",
    "from src.gabeda_context import GabedaContext\n",
    "from src.model_executor import ModelExecutor, ModelOrchestrator\n",
    "from src.preprocessing import preprocess_data"
   ]
  },
  {
   "cell_type": "code",
   "execution_count": 15,
   "id": "4a389ce5",
   "metadata": {},
   "outputs": [
    {
     "name": "stdout",
     "output_type": "stream",
     "text": [
      "✓ Context initialized: GabedaContext(run_id='test_client_20251008_133649', datasets=0, models=0)\n"
     ]
    }
   ],
   "source": [
    "# Step 2: Create GabedaContext with user configuration\n",
    "# Initialize context\n",
    "ctx = GabedaContext(khujta_cfg)\n",
    "print(f\"✓ Context initialized: {ctx}\")"
   ]
  },
  {
   "cell_type": "code",
   "execution_count": 16,
   "id": "3f3f174a",
   "metadata": {},
   "outputs": [
    {
     "name": "stdout",
     "output_type": "stream",
     "text": [
      "✓ Data loaded: (8, 10)\n",
      "✓ Datasets in context: ['raw', 'preprocessed']\n"
     ]
    }
   ],
   "source": [
    "# Step 3: Load and preprocess data\n",
    "raw_data = pd.read_csv(khujta_cfg['input_file'])\n",
    "preprocessed_df = preprocess_data(raw_data, khujta_cfg)\n",
    "\n",
    "# Store preprocessed data in context\n",
    "ctx.set_dataset('raw', raw_data)\n",
    "ctx.set_dataset('preprocessed', preprocessed_df)\n",
    "\n",
    "print(f\"✓ Data loaded: {preprocessed_df.shape}\")\n",
    "print(f\"✓ Datasets in context: {ctx.list_datasets()}\")"
   ]
  },
  {
   "cell_type": "code",
   "execution_count": 17,
   "id": "ca2cf3a4",
   "metadata": {},
   "outputs": [
    {
     "data": {
      "text/html": [
       "<div>\n",
       "<style scoped>\n",
       "    .dataframe tbody tr th:only-of-type {\n",
       "        vertical-align: middle;\n",
       "    }\n",
       "\n",
       "    .dataframe tbody tr th {\n",
       "        vertical-align: top;\n",
       "    }\n",
       "\n",
       "    .dataframe thead th {\n",
       "        text-align: right;\n",
       "    }\n",
       "</style>\n",
       "<table border=\"1\" class=\"dataframe\">\n",
       "  <thead>\n",
       "    <tr style=\"text-align: right;\">\n",
       "      <th></th>\n",
       "      <th>trans_id</th>\n",
       "      <th>fecha</th>\n",
       "      <th>producto</th>\n",
       "      <th>glosa</th>\n",
       "      <th>costo</th>\n",
       "      <th>total</th>\n",
       "      <th>cantidad</th>\n",
       "      <th>customer_id</th>\n",
       "      <th>customer_name</th>\n",
       "      <th>customer_location</th>\n",
       "    </tr>\n",
       "  </thead>\n",
       "  <tbody>\n",
       "    <tr>\n",
       "      <th>0</th>\n",
       "      <td>AS000001_1</td>\n",
       "      <td>12/01/2024 10:58:00 AM</td>\n",
       "      <td>DRY007</td>\n",
       "      <td>HARINA TEMPURA ESPECIAL 1KG</td>\n",
       "      <td>2200</td>\n",
       "      <td>6641</td>\n",
       "      <td>2</td>\n",
       "      <td>B017</td>\n",
       "      <td>PENSION VOLCAN</td>\n",
       "      <td>Temuco</td>\n",
       "    </tr>\n",
       "    <tr>\n",
       "      <th>1</th>\n",
       "      <td>AS000001_2</td>\n",
       "      <td>12/01/2024 10:58:00 AM</td>\n",
       "      <td>FROZ007</td>\n",
       "      <td>PAPAS FRITAS CORTE BASTÓN 2.5KG</td>\n",
       "      <td>2200</td>\n",
       "      <td>3075</td>\n",
       "      <td>1</td>\n",
       "      <td>B017</td>\n",
       "      <td>PENSION VOLCAN</td>\n",
       "      <td>Temuco</td>\n",
       "    </tr>\n",
       "    <tr>\n",
       "      <th>2</th>\n",
       "      <td>AS000001_3</td>\n",
       "      <td>12/01/2024 10:58:00 AM</td>\n",
       "      <td>FROZ003</td>\n",
       "      <td>BARRITAS MERLUZA EMPANADAS 1KG</td>\n",
       "      <td>4200</td>\n",
       "      <td>5966</td>\n",
       "      <td>1</td>\n",
       "      <td>B017</td>\n",
       "      <td>PENSION VOLCAN</td>\n",
       "      <td>Temuco</td>\n",
       "    </tr>\n",
       "    <tr>\n",
       "      <th>3</th>\n",
       "      <td>AS000001_4</td>\n",
       "      <td>12/01/2024 10:58:00 AM</td>\n",
       "      <td>SUSH008</td>\n",
       "      <td>SALSA SOYA KIKKOMAN 1L</td>\n",
       "      <td>3200</td>\n",
       "      <td>4320</td>\n",
       "      <td>1</td>\n",
       "      <td>B017</td>\n",
       "      <td>PENSION VOLCAN</td>\n",
       "      <td>Temuco</td>\n",
       "    </tr>\n",
       "    <tr>\n",
       "      <th>4</th>\n",
       "      <td>AS000001_5</td>\n",
       "      <td>12/01/2024 10:58:00 AM</td>\n",
       "      <td>SUSH008</td>\n",
       "      <td>SALSA SOYA KIKKOMAN 1L</td>\n",
       "      <td>3200</td>\n",
       "      <td>4327</td>\n",
       "      <td>1</td>\n",
       "      <td>B017</td>\n",
       "      <td>PENSION VOLCAN</td>\n",
       "      <td>Temuco</td>\n",
       "    </tr>\n",
       "  </tbody>\n",
       "</table>\n",
       "</div>"
      ],
      "text/plain": [
       "     trans_id                   fecha producto  \\\n",
       "0  AS000001_1  12/01/2024 10:58:00 AM   DRY007   \n",
       "1  AS000001_2  12/01/2024 10:58:00 AM  FROZ007   \n",
       "2  AS000001_3  12/01/2024 10:58:00 AM  FROZ003   \n",
       "3  AS000001_4  12/01/2024 10:58:00 AM  SUSH008   \n",
       "4  AS000001_5  12/01/2024 10:58:00 AM  SUSH008   \n",
       "\n",
       "                             glosa  costo  total  cantidad customer_id  \\\n",
       "0      HARINA TEMPURA ESPECIAL 1KG   2200   6641         2        B017   \n",
       "1  PAPAS FRITAS CORTE BASTÓN 2.5KG   2200   3075         1        B017   \n",
       "2   BARRITAS MERLUZA EMPANADAS 1KG   4200   5966         1        B017   \n",
       "3           SALSA SOYA KIKKOMAN 1L   3200   4320         1        B017   \n",
       "4           SALSA SOYA KIKKOMAN 1L   3200   4327         1        B017   \n",
       "\n",
       "    customer_name customer_location  \n",
       "0  PENSION VOLCAN            Temuco  \n",
       "1  PENSION VOLCAN            Temuco  \n",
       "2  PENSION VOLCAN            Temuco  \n",
       "3  PENSION VOLCAN            Temuco  \n",
       "4  PENSION VOLCAN            Temuco  "
      ]
     },
     "execution_count": 17,
     "metadata": {},
     "output_type": "execute_result"
    }
   ],
   "source": [
    "ctx.get_dataset('raw').head()"
   ]
  },
  {
   "cell_type": "code",
   "execution_count": 18,
   "id": "41119417",
   "metadata": {},
   "outputs": [
    {
     "data": {
      "text/html": [
       "<div>\n",
       "<style scoped>\n",
       "    .dataframe tbody tr th:only-of-type {\n",
       "        vertical-align: middle;\n",
       "    }\n",
       "\n",
       "    .dataframe tbody tr th {\n",
       "        vertical-align: top;\n",
       "    }\n",
       "\n",
       "    .dataframe thead th {\n",
       "        text-align: right;\n",
       "    }\n",
       "</style>\n",
       "<table border=\"1\" class=\"dataframe\">\n",
       "  <thead>\n",
       "    <tr style=\"text-align: right;\">\n",
       "      <th></th>\n",
       "      <th>in_trans_id</th>\n",
       "      <th>in_dt</th>\n",
       "      <th>in_product</th>\n",
       "      <th>in_description</th>\n",
       "      <th>in_cost</th>\n",
       "      <th>in_total_price</th>\n",
       "      <th>in_quantity</th>\n",
       "      <th>in_customer_id</th>\n",
       "      <th>in_customer_name</th>\n",
       "      <th>in_customer_location</th>\n",
       "    </tr>\n",
       "  </thead>\n",
       "  <tbody>\n",
       "    <tr>\n",
       "      <th>0</th>\n",
       "      <td>AS000001_1</td>\n",
       "      <td>2024-12-01 10:58:00</td>\n",
       "      <td>DRY007</td>\n",
       "      <td>HARINA TEMPURA ESPECIAL 1KG</td>\n",
       "      <td>2200.0</td>\n",
       "      <td>6641.0</td>\n",
       "      <td>2.0</td>\n",
       "      <td>B017</td>\n",
       "      <td>PENSION VOLCAN</td>\n",
       "      <td>Temuco</td>\n",
       "    </tr>\n",
       "    <tr>\n",
       "      <th>1</th>\n",
       "      <td>AS000001_2</td>\n",
       "      <td>2024-12-01 10:58:00</td>\n",
       "      <td>FROZ007</td>\n",
       "      <td>PAPAS FRITAS CORTE BASTÓN 2.5KG</td>\n",
       "      <td>2200.0</td>\n",
       "      <td>3075.0</td>\n",
       "      <td>1.0</td>\n",
       "      <td>B017</td>\n",
       "      <td>PENSION VOLCAN</td>\n",
       "      <td>Temuco</td>\n",
       "    </tr>\n",
       "    <tr>\n",
       "      <th>2</th>\n",
       "      <td>AS000001_3</td>\n",
       "      <td>2024-12-01 10:58:00</td>\n",
       "      <td>FROZ003</td>\n",
       "      <td>BARRITAS MERLUZA EMPANADAS 1KG</td>\n",
       "      <td>4200.0</td>\n",
       "      <td>5966.0</td>\n",
       "      <td>1.0</td>\n",
       "      <td>B017</td>\n",
       "      <td>PENSION VOLCAN</td>\n",
       "      <td>Temuco</td>\n",
       "    </tr>\n",
       "    <tr>\n",
       "      <th>3</th>\n",
       "      <td>AS000001_4</td>\n",
       "      <td>2024-12-01 10:58:00</td>\n",
       "      <td>SUSH008</td>\n",
       "      <td>SALSA SOYA KIKKOMAN 1L</td>\n",
       "      <td>3200.0</td>\n",
       "      <td>4320.0</td>\n",
       "      <td>1.0</td>\n",
       "      <td>B017</td>\n",
       "      <td>PENSION VOLCAN</td>\n",
       "      <td>Temuco</td>\n",
       "    </tr>\n",
       "    <tr>\n",
       "      <th>4</th>\n",
       "      <td>AS000001_5</td>\n",
       "      <td>2024-12-01 10:58:00</td>\n",
       "      <td>SUSH008</td>\n",
       "      <td>SALSA SOYA KIKKOMAN 1L</td>\n",
       "      <td>3200.0</td>\n",
       "      <td>4327.0</td>\n",
       "      <td>1.0</td>\n",
       "      <td>B017</td>\n",
       "      <td>PENSION VOLCAN</td>\n",
       "      <td>Temuco</td>\n",
       "    </tr>\n",
       "  </tbody>\n",
       "</table>\n",
       "</div>"
      ],
      "text/plain": [
       "  in_trans_id               in_dt in_product                   in_description  \\\n",
       "0  AS000001_1 2024-12-01 10:58:00     DRY007      HARINA TEMPURA ESPECIAL 1KG   \n",
       "1  AS000001_2 2024-12-01 10:58:00    FROZ007  PAPAS FRITAS CORTE BASTÓN 2.5KG   \n",
       "2  AS000001_3 2024-12-01 10:58:00    FROZ003   BARRITAS MERLUZA EMPANADAS 1KG   \n",
       "3  AS000001_4 2024-12-01 10:58:00    SUSH008           SALSA SOYA KIKKOMAN 1L   \n",
       "4  AS000001_5 2024-12-01 10:58:00    SUSH008           SALSA SOYA KIKKOMAN 1L   \n",
       "\n",
       "   in_cost  in_total_price  in_quantity in_customer_id in_customer_name  \\\n",
       "0   2200.0          6641.0          2.0           B017   PENSION VOLCAN   \n",
       "1   2200.0          3075.0          1.0           B017   PENSION VOLCAN   \n",
       "2   4200.0          5966.0          1.0           B017   PENSION VOLCAN   \n",
       "3   3200.0          4320.0          1.0           B017   PENSION VOLCAN   \n",
       "4   3200.0          4327.0          1.0           B017   PENSION VOLCAN   \n",
       "\n",
       "  in_customer_location  \n",
       "0               Temuco  \n",
       "1               Temuco  \n",
       "2               Temuco  \n",
       "3               Temuco  \n",
       "4               Temuco  "
      ]
     },
     "execution_count": 18,
     "metadata": {},
     "output_type": "execute_result"
    }
   ],
   "source": [
    "ctx.get_dataset('preprocessed').head()"
   ]
  },
  {
   "cell_type": "markdown",
   "id": "ff81d97e",
   "metadata": {},
   "source": [
    "# Features"
   ]
  },
  {
   "cell_type": "markdown",
   "id": "febb69e6",
   "metadata": {},
   "source": [
    "## Filters"
   ]
  },
  {
   "cell_type": "code",
   "execution_count": 19,
   "id": "ad4f4bd6",
   "metadata": {},
   "outputs": [],
   "source": [
    "FLOATPRECISION = 0.0000001\n",
    "def hour(in_dt):\n",
    "    return pd.Timestamp(in_dt).hour"
   ]
  },
  {
   "cell_type": "markdown",
   "id": "1d5dfddc",
   "metadata": {},
   "source": [
    "## Attributes"
   ]
  },
  {
   "cell_type": "code",
   "execution_count": null,
   "id": "768cbed8",
   "metadata": {},
   "outputs": [],
   "source": [
    "def description(in_description):\n",
    "    return in_description.unique()[0]\n",
    "\n",
    "def total_transactions(in_trans_id):\n",
    "    return np.count_nonzero(in_trans_id)\n",
    "\n",
    "def total_units_sold(in_quantity):\n",
    "    return np.sum(in_quantity)\n",
    "\n",
    "def total_revenue(in_total_price):\n",
    "    return np.sum(in_total_price)\n",
    "\n",
    "def total_cost(in_cost):\n",
    "    return np.sum(in_cost)\n",
    "\n",
    "def first_sale(in_dt):\n",
    "    return in_dt.min()\n",
    "\n",
    "def last_sale(in_dt):\n",
    "    return in_dt.max()\n",
    "\n",
    "def active_days(first_sale, last_sale):\n",
    "    return (last_sale - first_sale).dt.days + 1"
   ]
  },
  {
   "cell_type": "markdown",
   "id": "291125c1",
   "metadata": {},
   "source": [
    "### Execute Product Model with ModelExecutor"
   ]
  },
  {
   "cell_type": "code",
   "execution_count": 21,
   "id": "4a926d55",
   "metadata": {},
   "outputs": [],
   "source": [
    "# Step 4: Create model configuration\n",
    "cfg_product = {\n",
    "    'model_name': 'product_stats',\n",
    "    'group_by': ['in_product'],\n",
    "    'features': {\n",
    "        # Filtrs\n",
    "        'hour': hour,\n",
    "        # Attrs\n",
    "        'description': description,\n",
    "        'total_transactions': total_transactions,\n",
    "        'total_units_sold': total_units_sold,\n",
    "        'total_revenue': total_revenue,\n",
    "        'total_cost': total_cost,\n",
    "        'first_sale': first_sale,\n",
    "        'last_sale': last_sale,\n",
    "        'active_days': active_days,\n",
    "    },\n",
    "    'output_cols': ['hour', 'description','total_transactions', 'total_units_sold','total_revenue', 'total_cost', 'first_sale', 'last_sale', 'active_days']\n",
    "}"
   ]
  },
  {
   "cell_type": "code",
   "execution_count": 22,
   "id": "1316cb01",
   "metadata": {},
   "outputs": [
    {
     "name": "stdout",
     "output_type": "stream",
     "text": [
      "0    HARINA TEMPURA ESPECIAL 1KG\n",
      "Name: in_description, dtype: object\n"
     ]
    },
    {
     "ename": "AttributeError",
     "evalue": "module 'numpy' has no attribute 'first'",
     "output_type": "error",
     "traceback": [
      "\u001b[31m---------------------------------------------------------------------------\u001b[39m",
      "\u001b[31mAttributeError\u001b[39m                            Traceback (most recent call last)",
      "\u001b[36mCell\u001b[39m\u001b[36m \u001b[39m\u001b[32mIn[22]\u001b[39m\u001b[32m, line 3\u001b[39m\n\u001b[32m      1\u001b[39m \u001b[38;5;66;03m# Step 5: Create ModelExecutor and execute\u001b[39;00m\n\u001b[32m      2\u001b[39m executor = ModelExecutor(cfg_product)\n\u001b[32m----> \u001b[39m\u001b[32m3\u001b[39m results = \u001b[43mexecutor\u001b[49m\u001b[43m.\u001b[49m\u001b[43mexecute\u001b[49m\u001b[43m(\u001b[49m\u001b[43mctx\u001b[49m\u001b[43m,\u001b[49m\u001b[43m \u001b[49m\u001b[43minput_dataset_name\u001b[49m\u001b[43m=\u001b[49m\u001b[33;43m'\u001b[39;49m\u001b[33;43mpreprocessed\u001b[39;49m\u001b[33;43m'\u001b[39;49m\u001b[43m)\u001b[49m\n\u001b[32m      5\u001b[39m \u001b[38;5;28mprint\u001b[39m(\u001b[33mf\u001b[39m\u001b[33m\"\u001b[39m\u001b[38;5;130;01m\\n\u001b[39;00m\u001b[33m✓ Model executed: \u001b[39m\u001b[38;5;132;01m{\u001b[39;00mexecutor.model_name\u001b[38;5;132;01m}\u001b[39;00m\u001b[33m\"\u001b[39m)\n\u001b[32m      6\u001b[39m \u001b[38;5;28mprint\u001b[39m(\u001b[33mf\u001b[39m\u001b[33m\"\u001b[39m\u001b[33m  - Filters shape: \u001b[39m\u001b[38;5;132;01m{\u001b[39;00mresults[\u001b[33m'\u001b[39m\u001b[33mfilters\u001b[39m\u001b[33m'\u001b[39m].shape\u001b[38;5;132;01m}\u001b[39;00m\u001b[33m\"\u001b[39m)\n",
      "\u001b[36mFile \u001b[39m\u001b[32mc:\\Projects\\play\\khujta_ai_business\\src\\model_executor.py:94\u001b[39m, in \u001b[36mModelExecutor.execute\u001b[39m\u001b[34m(self, ctx, input_dataset_name, resolve_dependencies)\u001b[39m\n\u001b[32m     92\u001b[39m \u001b[38;5;66;03m# Execute calculation\u001b[39;00m\n\u001b[32m     93\u001b[39m \u001b[38;5;28;01mtry\u001b[39;00m:\n\u001b[32m---> \u001b[39m\u001b[32m94\u001b[39m     filters_df, attrs_df = \u001b[43mcalc_datasets\u001b[49m\u001b[43m(\u001b[49m\u001b[43minput_df\u001b[49m\u001b[43m,\u001b[49m\u001b[43m \u001b[49m\u001b[43mcfg_model\u001b[49m\u001b[43m)\u001b[49m\n\u001b[32m     96\u001b[39m     logger.info(\n\u001b[32m     97\u001b[39m         \u001b[33mf\u001b[39m\u001b[33m\"\u001b[39m\u001b[33mModel \u001b[39m\u001b[38;5;132;01m{\u001b[39;00m\u001b[38;5;28mself\u001b[39m.model_name\u001b[38;5;132;01m}\u001b[39;00m\u001b[33m completed: \u001b[39m\u001b[33m\"\u001b[39m\n\u001b[32m     98\u001b[39m         \u001b[33mf\u001b[39m\u001b[33m\"\u001b[39m\u001b[33mfilters=\u001b[39m\u001b[38;5;132;01m{\u001b[39;00mfilters_df.shape\u001b[38;5;250m \u001b[39m\u001b[38;5;28;01mif\u001b[39;00m\u001b[38;5;250m \u001b[39mfilters_df\u001b[38;5;250m \u001b[39m\u001b[38;5;129;01mis\u001b[39;00m\u001b[38;5;250m \u001b[39m\u001b[38;5;129;01mnot\u001b[39;00m\u001b[38;5;250m \u001b[39m\u001b[38;5;28;01mNone\u001b[39;00m\u001b[38;5;250m \u001b[39m\u001b[38;5;28;01melse\u001b[39;00m\u001b[38;5;250m \u001b[39m\u001b[33m'\u001b[39m\u001b[33mNone\u001b[39m\u001b[33m'\u001b[39m\u001b[38;5;132;01m}\u001b[39;00m\u001b[33m, \u001b[39m\u001b[33m\"\u001b[39m\n\u001b[32m     99\u001b[39m         \u001b[33mf\u001b[39m\u001b[33m\"\u001b[39m\u001b[33mattrs=\u001b[39m\u001b[38;5;132;01m{\u001b[39;00mattrs_df.shape\u001b[38;5;250m \u001b[39m\u001b[38;5;28;01mif\u001b[39;00m\u001b[38;5;250m \u001b[39mattrs_df\u001b[38;5;250m \u001b[39m\u001b[38;5;129;01mis\u001b[39;00m\u001b[38;5;250m \u001b[39m\u001b[38;5;129;01mnot\u001b[39;00m\u001b[38;5;250m \u001b[39m\u001b[38;5;28;01mNone\u001b[39;00m\u001b[38;5;250m \u001b[39m\u001b[38;5;28;01melse\u001b[39;00m\u001b[38;5;250m \u001b[39m\u001b[33m'\u001b[39m\u001b[33mNone\u001b[39m\u001b[33m'\u001b[39m\u001b[38;5;132;01m}\u001b[39;00m\u001b[33m\"\u001b[39m\n\u001b[32m    100\u001b[39m     )\n\u001b[32m    102\u001b[39m     \u001b[38;5;66;03m# Package results\u001b[39;00m\n",
      "\u001b[36mFile \u001b[39m\u001b[32mc:\\Projects\\play\\khujta_ai_business\\src\\modeling.py:103\u001b[39m, in \u001b[36mcalc_datasets\u001b[39m\u001b[34m(data_in, cfg_model)\u001b[39m\n\u001b[32m    100\u001b[39m \u001b[38;5;28;01mif\u001b[39;00m in_flg \u001b[38;5;129;01mand\u001b[39;00m \u001b[38;5;129;01mnot\u001b[39;00m out_flg:\n\u001b[32m    101\u001b[39m     \u001b[38;5;66;03m# Arguments from data_in only - use groupby aggregation\u001b[39;00m\n\u001b[32m    102\u001b[39m     grouped = data_in.groupby(cfg_model[\u001b[33m'\u001b[39m\u001b[33mgroup_by\u001b[39m\u001b[33m'\u001b[39m])\n\u001b[32m--> \u001b[39m\u001b[32m103\u001b[39m     agg_results[feature] = \u001b[43mgrouped\u001b[49m\u001b[43m.\u001b[49m\u001b[43mapply\u001b[49m\u001b[43m(\u001b[49m\u001b[38;5;28;43;01mlambda\u001b[39;49;00m\u001b[43m \u001b[49m\u001b[43mg\u001b[49m\u001b[43m:\u001b[49m\u001b[43m \u001b[49m\u001b[43mfunc\u001b[49m\u001b[43m(\u001b[49m\u001b[43m*\u001b[49m\u001b[43m[\u001b[49m\u001b[43mg\u001b[49m\u001b[43m[\u001b[49m\u001b[43marg\u001b[49m\u001b[43m]\u001b[49m\u001b[43m \u001b[49m\u001b[38;5;28;43;01mfor\u001b[39;49;00m\u001b[43m \u001b[49m\u001b[43marg\u001b[49m\u001b[43m \u001b[49m\u001b[38;5;129;43;01min\u001b[39;49;00m\u001b[43m \u001b[49m\u001b[43marg_list\u001b[49m\u001b[43m]\u001b[49m\u001b[43m)\u001b[49m\u001b[43m,\u001b[49m\u001b[43m \u001b[49m\u001b[43minclude_groups\u001b[49m\u001b[43m=\u001b[49m\u001b[38;5;28;43;01mFalse\u001b[39;49;00m\u001b[43m)\u001b[49m\n\u001b[32m    105\u001b[39m \u001b[38;5;28;01melif\u001b[39;00m out_flg:\n\u001b[32m    106\u001b[39m     \u001b[38;5;66;03m# Arguments include data_out - use already computed aggregates\u001b[39;00m\n\u001b[32m    107\u001b[39m     agg_results[feature] = func(*args_data)\n",
      "\u001b[36mFile \u001b[39m\u001b[32mc:\\Projects\\play\\khujta_ai_business\\venv\\Lib\\site-packages\\pandas\\core\\groupby\\groupby.py:1820\u001b[39m, in \u001b[36mGroupBy.apply\u001b[39m\u001b[34m(self, func, include_groups, *args, **kwargs)\u001b[39m\n\u001b[32m   1817\u001b[39m     f = func\n\u001b[32m   1819\u001b[39m \u001b[38;5;28;01mif\u001b[39;00m \u001b[38;5;129;01mnot\u001b[39;00m include_groups:\n\u001b[32m-> \u001b[39m\u001b[32m1820\u001b[39m     \u001b[38;5;28;01mreturn\u001b[39;00m \u001b[38;5;28;43mself\u001b[39;49m\u001b[43m.\u001b[49m\u001b[43m_python_apply_general\u001b[49m\u001b[43m(\u001b[49m\u001b[43mf\u001b[49m\u001b[43m,\u001b[49m\u001b[43m \u001b[49m\u001b[38;5;28;43mself\u001b[39;49m\u001b[43m.\u001b[49m\u001b[43m_obj_with_exclusions\u001b[49m\u001b[43m)\u001b[49m\n\u001b[32m   1822\u001b[39m \u001b[38;5;66;03m# ignore SettingWithCopy here in case the user mutates\u001b[39;00m\n\u001b[32m   1823\u001b[39m \u001b[38;5;28;01mwith\u001b[39;00m option_context(\u001b[33m\"\u001b[39m\u001b[33mmode.chained_assignment\u001b[39m\u001b[33m\"\u001b[39m, \u001b[38;5;28;01mNone\u001b[39;00m):\n",
      "\u001b[36mFile \u001b[39m\u001b[32mc:\\Projects\\play\\khujta_ai_business\\venv\\Lib\\site-packages\\pandas\\core\\groupby\\groupby.py:1886\u001b[39m, in \u001b[36mGroupBy._python_apply_general\u001b[39m\u001b[34m(self, f, data, not_indexed_same, is_transform, is_agg)\u001b[39m\n\u001b[32m   1851\u001b[39m \u001b[38;5;129m@final\u001b[39m\n\u001b[32m   1852\u001b[39m \u001b[38;5;28;01mdef\u001b[39;00m\u001b[38;5;250m \u001b[39m\u001b[34m_python_apply_general\u001b[39m(\n\u001b[32m   1853\u001b[39m     \u001b[38;5;28mself\u001b[39m,\n\u001b[32m   (...)\u001b[39m\u001b[32m   1858\u001b[39m     is_agg: \u001b[38;5;28mbool\u001b[39m = \u001b[38;5;28;01mFalse\u001b[39;00m,\n\u001b[32m   1859\u001b[39m ) -> NDFrameT:\n\u001b[32m   1860\u001b[39m \u001b[38;5;250m    \u001b[39m\u001b[33;03m\"\"\"\u001b[39;00m\n\u001b[32m   1861\u001b[39m \u001b[33;03m    Apply function f in python space\u001b[39;00m\n\u001b[32m   1862\u001b[39m \n\u001b[32m   (...)\u001b[39m\u001b[32m   1884\u001b[39m \u001b[33;03m        data after applying f\u001b[39;00m\n\u001b[32m   1885\u001b[39m \u001b[33;03m    \"\"\"\u001b[39;00m\n\u001b[32m-> \u001b[39m\u001b[32m1886\u001b[39m     values, mutated = \u001b[38;5;28;43mself\u001b[39;49m\u001b[43m.\u001b[49m\u001b[43m_grouper\u001b[49m\u001b[43m.\u001b[49m\u001b[43mapply_groupwise\u001b[49m\u001b[43m(\u001b[49m\u001b[43mf\u001b[49m\u001b[43m,\u001b[49m\u001b[43m \u001b[49m\u001b[43mdata\u001b[49m\u001b[43m,\u001b[49m\u001b[43m \u001b[49m\u001b[38;5;28;43mself\u001b[39;49m\u001b[43m.\u001b[49m\u001b[43maxis\u001b[49m\u001b[43m)\u001b[49m\n\u001b[32m   1887\u001b[39m     \u001b[38;5;28;01mif\u001b[39;00m not_indexed_same \u001b[38;5;129;01mis\u001b[39;00m \u001b[38;5;28;01mNone\u001b[39;00m:\n\u001b[32m   1888\u001b[39m         not_indexed_same = mutated\n",
      "\u001b[36mFile \u001b[39m\u001b[32mc:\\Projects\\play\\khujta_ai_business\\venv\\Lib\\site-packages\\pandas\\core\\groupby\\ops.py:919\u001b[39m, in \u001b[36mBaseGrouper.apply_groupwise\u001b[39m\u001b[34m(self, f, data, axis)\u001b[39m\n\u001b[32m    917\u001b[39m \u001b[38;5;66;03m# group might be modified\u001b[39;00m\n\u001b[32m    918\u001b[39m group_axes = group.axes\n\u001b[32m--> \u001b[39m\u001b[32m919\u001b[39m res = \u001b[43mf\u001b[49m\u001b[43m(\u001b[49m\u001b[43mgroup\u001b[49m\u001b[43m)\u001b[49m\n\u001b[32m    920\u001b[39m \u001b[38;5;28;01mif\u001b[39;00m \u001b[38;5;129;01mnot\u001b[39;00m mutated \u001b[38;5;129;01mand\u001b[39;00m \u001b[38;5;129;01mnot\u001b[39;00m _is_indexed_like(res, group_axes, axis):\n\u001b[32m    921\u001b[39m     mutated = \u001b[38;5;28;01mTrue\u001b[39;00m\n",
      "\u001b[36mFile \u001b[39m\u001b[32mc:\\Projects\\play\\khujta_ai_business\\src\\modeling.py:103\u001b[39m, in \u001b[36mcalc_datasets.<locals>.<lambda>\u001b[39m\u001b[34m(g)\u001b[39m\n\u001b[32m    100\u001b[39m \u001b[38;5;28;01mif\u001b[39;00m in_flg \u001b[38;5;129;01mand\u001b[39;00m \u001b[38;5;129;01mnot\u001b[39;00m out_flg:\n\u001b[32m    101\u001b[39m     \u001b[38;5;66;03m# Arguments from data_in only - use groupby aggregation\u001b[39;00m\n\u001b[32m    102\u001b[39m     grouped = data_in.groupby(cfg_model[\u001b[33m'\u001b[39m\u001b[33mgroup_by\u001b[39m\u001b[33m'\u001b[39m])\n\u001b[32m--> \u001b[39m\u001b[32m103\u001b[39m     agg_results[feature] = grouped.apply(\u001b[38;5;28;01mlambda\u001b[39;00m g: \u001b[43mfunc\u001b[49m\u001b[43m(\u001b[49m\u001b[43m*\u001b[49m\u001b[43m[\u001b[49m\u001b[43mg\u001b[49m\u001b[43m[\u001b[49m\u001b[43marg\u001b[49m\u001b[43m]\u001b[49m\u001b[43m \u001b[49m\u001b[38;5;28;43;01mfor\u001b[39;49;00m\u001b[43m \u001b[49m\u001b[43marg\u001b[49m\u001b[43m \u001b[49m\u001b[38;5;129;43;01min\u001b[39;49;00m\u001b[43m \u001b[49m\u001b[43marg_list\u001b[49m\u001b[43m]\u001b[49m\u001b[43m)\u001b[49m, include_groups=\u001b[38;5;28;01mFalse\u001b[39;00m)\n\u001b[32m    105\u001b[39m \u001b[38;5;28;01melif\u001b[39;00m out_flg:\n\u001b[32m    106\u001b[39m     \u001b[38;5;66;03m# Arguments include data_out - use already computed aggregates\u001b[39;00m\n\u001b[32m    107\u001b[39m     agg_results[feature] = func(*args_data)\n",
      "\u001b[36mCell\u001b[39m\u001b[36m \u001b[39m\u001b[32mIn[20]\u001b[39m\u001b[32m, line 3\u001b[39m, in \u001b[36mdescription\u001b[39m\u001b[34m(in_description)\u001b[39m\n\u001b[32m      1\u001b[39m \u001b[38;5;28;01mdef\u001b[39;00m\u001b[38;5;250m \u001b[39m\u001b[34mdescription\u001b[39m(in_description):\n\u001b[32m      2\u001b[39m     \u001b[38;5;28mprint\u001b[39m(in_description)\n\u001b[32m----> \u001b[39m\u001b[32m3\u001b[39m     \u001b[38;5;28;01mreturn\u001b[39;00m \u001b[43mnp\u001b[49m\u001b[43m.\u001b[49m\u001b[43mfirst\u001b[49m(in_description)\n",
      "\u001b[36mFile \u001b[39m\u001b[32mc:\\Projects\\play\\khujta_ai_business\\venv\\Lib\\site-packages\\numpy\\__init__.py:427\u001b[39m, in \u001b[36m__getattr__\u001b[39m\u001b[34m(attr)\u001b[39m\n\u001b[32m    424\u001b[39m     \u001b[38;5;28;01mimport\u001b[39;00m\u001b[38;5;250m \u001b[39m\u001b[34;01mnumpy\u001b[39;00m\u001b[34;01m.\u001b[39;00m\u001b[34;01mchar\u001b[39;00m\u001b[38;5;250m \u001b[39m\u001b[38;5;28;01mas\u001b[39;00m\u001b[38;5;250m \u001b[39m\u001b[34;01mchar\u001b[39;00m\n\u001b[32m    425\u001b[39m     \u001b[38;5;28;01mreturn\u001b[39;00m char.chararray\n\u001b[32m--> \u001b[39m\u001b[32m427\u001b[39m \u001b[38;5;28;01mraise\u001b[39;00m \u001b[38;5;167;01mAttributeError\u001b[39;00m(\u001b[33m\"\u001b[39m\u001b[33mmodule \u001b[39m\u001b[38;5;132;01m{!r}\u001b[39;00m\u001b[33m has no attribute \u001b[39m\u001b[33m\"\u001b[39m\n\u001b[32m    428\u001b[39m                      \u001b[33m\"\u001b[39m\u001b[38;5;132;01m{!r}\u001b[39;00m\u001b[33m\"\u001b[39m.format(\u001b[34m__name__\u001b[39m, attr))\n",
      "\u001b[31mAttributeError\u001b[39m: module 'numpy' has no attribute 'first'"
     ]
    }
   ],
   "source": [
    "# Step 5: Create ModelExecutor and execute\n",
    "executor = ModelExecutor(cfg_product)\n",
    "results = executor.execute(ctx, input_dataset_name='preprocessed')\n",
    "\n",
    "print(f\"\\n✓ Model executed: {executor.model_name}\")\n",
    "print(f\"  - Filters shape: {results['filters'].shape}\")\n",
    "print(f\"  - Attrs shape: {results['attrs'].shape if results['attrs'] is not None else 'None'}\")"
   ]
  },
  {
   "cell_type": "code",
   "execution_count": null,
   "id": "86c64d3a",
   "metadata": {},
   "outputs": [],
   "source": [
    "# Step 6: Access results from context (multiple ways)\n",
    "print(\"\\n--- Accessing Results ---\")\n",
    "\n",
    "# Method 1: Direct from results dictionary\n",
    "filters_df = results['filters']\n",
    "attrs_df = results['attrs']\n",
    "\n",
    "# Method 2: From context by dataset name\n",
    "filters_from_ctx = ctx.get_dataset('product_stats_filters')\n",
    "attrs_from_ctx = ctx.get_dataset('product_stats_attrs')\n",
    "\n",
    "# Method 3: Convenience methods\n",
    "filters_method = ctx.get_model_filters('product_stats')\n",
    "attrs_method = ctx.get_model_attrs('product_stats')\n",
    "\n",
    "print(f\"All methods return same data: {filters_df.equals(filters_from_ctx) and filters_df.equals(filters_method)}\")"
   ]
  },
  {
   "cell_type": "code",
   "execution_count": null,
   "id": "f076fc06",
   "metadata": {},
   "outputs": [],
   "source": [
    "ctx.get_model_filters('product_stats').head()"
   ]
  },
  {
   "cell_type": "code",
   "execution_count": null,
   "id": "dc59d9dd",
   "metadata": {},
   "outputs": [],
   "source": [
    "ctx.get_model_attrs('product_stats').head()"
   ]
  },
  {
   "cell_type": "markdown",
   "id": "8d45057a",
   "metadata": {},
   "source": [
    "## Preprocess"
   ]
  },
  {
   "cell_type": "markdown",
   "id": "9qqv1svgsmr",
   "metadata": {},
   "source": [
    "### View Results: Filters and Attrs DataFrames"
   ]
  },
  {
   "cell_type": "code",
   "execution_count": null,
   "id": "85y5ruku2oa",
   "metadata": {},
   "outputs": [],
   "source": [
    "# Example: Running multiple models with orchestrator\n",
    "# (You can add more models later: customer_stats, time_period, etc.)\n",
    "\n",
    "# Create fresh context for orchestrator example\n",
    "ctx2 = GabedaContext(khujta_cfg)\n",
    "ctx2.set_dataset('preprocessed', preprocessed_df)\n",
    "\n",
    "# Initialize orchestrator\n",
    "orchestrator = ModelOrchestrator(ctx2)\n",
    "\n",
    "# Register models\n",
    "orchestrator.register_model(ModelExecutor(cfg_product))\n",
    "# orchestrator.register_model(ModelExecutor(cfg_customer))  # Add when ready\n",
    "# orchestrator.register_model(ModelExecutor(cfg_time))       # Add when ready\n",
    "\n",
    "# Execute all registered models\n",
    "orchestrator.execute_all(input_dataset_name='preprocessed')\n",
    "\n",
    "# View summary\n",
    "ctx2.print_summary() "
   ]
  },
  {
   "cell_type": "code",
   "execution_count": null,
   "id": "vcs3882s938",
   "metadata": {},
   "outputs": [],
   "source": [
    "# Optional: Save to disk\n",
    "ctx.save_dataset('product_stats_filters', f\"{out_path}/product_filters\", format='csv')\n",
    "ctx.save_dataset('product_stats_attrs', f\"{out_path}/product_attrs\", format='csv')\n",
    "print(f\"\\n✓ Results saved to {out_path}/\")"
   ]
  }
 ],
 "metadata": {
  "kernelspec": {
   "display_name": "venv (3.12.7)",
   "language": "python",
   "name": "python3"
  },
  "language_info": {
   "codemirror_mode": {
    "name": "ipython",
    "version": 3
   },
   "file_extension": ".py",
   "mimetype": "text/x-python",
   "name": "python",
   "nbconvert_exporter": "python",
   "pygments_lexer": "ipython3",
   "version": "3.12.7"
  }
 },
 "nbformat": 4,
 "nbformat_minor": 5
}
